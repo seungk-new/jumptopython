{
  "nbformat": 4,
  "nbformat_minor": 0,
  "metadata": {
    "colab": {
      "name": "210804lesson.ipynb",
      "provenance": [],
      "collapsed_sections": []
    },
    "kernelspec": {
      "name": "python3",
      "display_name": "Python 3"
    },
    "language_info": {
      "name": "python"
    }
  },
  "cells": [
    {
      "cell_type": "code",
      "metadata": {
        "colab": {
          "base_uri": "https://localhost:8080/"
        },
        "id": "QMG28fHM5AOd",
        "outputId": "c032f82b-8b0f-4ffe-8f27-3da9a67eb14d"
      },
      "source": [
        "import datetime\n",
        "\n",
        "set_day = datetime.date(2021,8,4)\n",
        "print(set_day)"
      ],
      "execution_count": null,
      "outputs": [
        {
          "output_type": "stream",
          "text": [
            "2021-08-04\n"
          ],
          "name": "stdout"
        }
      ]
    },
    {
      "cell_type": "code",
      "metadata": {
        "colab": {
          "base_uri": "https://localhost:8080/"
        },
        "id": "B4nfai1S5cKE",
        "outputId": "6f9b6c32-5a99-4369-98c8-21ab51f13218"
      },
      "source": [
        "print(\"{0}/{1}/{2}\".format(set_day.year,set_day.month,set_day.day))"
      ],
      "execution_count": null,
      "outputs": [
        {
          "output_type": "stream",
          "text": [
            "2021/8/4\n"
          ],
          "name": "stdout"
        }
      ]
    },
    {
      "cell_type": "code",
      "metadata": {
        "colab": {
          "base_uri": "https://localhost:8080/"
        },
        "id": "v3g9xA_T52r8",
        "outputId": "74766792-8549-4628-e3f3-e139e68ddae1"
      },
      "source": [
        "import datetime\n",
        "\n",
        "day1 = datetime.date(2021,4,1)\n",
        "day2 = datetime.date(2021,7,10)\n",
        "diff_day = day2 - day1\n",
        "print(diff_day)"
      ],
      "execution_count": null,
      "outputs": [
        {
          "output_type": "stream",
          "text": [
            "100 days, 0:00:00\n"
          ],
          "name": "stdout"
        }
      ]
    },
    {
      "cell_type": "code",
      "metadata": {
        "colab": {
          "base_uri": "https://localhost:8080/"
        },
        "id": "G5akRJ9M6EZ8",
        "outputId": "9eacee1d-4abc-4496-b94c-fbae7687a977"
      },
      "source": [
        "type(day1)"
      ],
      "execution_count": null,
      "outputs": [
        {
          "output_type": "execute_result",
          "data": {
            "text/plain": [
              "datetime.date"
            ]
          },
          "metadata": {
            "tags": []
          },
          "execution_count": 9
        }
      ]
    },
    {
      "cell_type": "code",
      "metadata": {
        "colab": {
          "base_uri": "https://localhost:8080/"
        },
        "id": "orHepZVe6PU2",
        "outputId": "2df83a3f-dfe4-4787-b4f5-2c45b81e1f07"
      },
      "source": [
        "# date 데이터 타입이 빼기 연산을 수행한 후에는 timedelta 데이터 타입으로 변경\n",
        "# 앞의 두 날짜차이 계산에서 날짜만을 출력하려면 timedelta클래스 속성인 days를 이용\n",
        "type(diff_day)"
      ],
      "execution_count": null,
      "outputs": [
        {
          "output_type": "execute_result",
          "data": {
            "text/plain": [
              "datetime.timedelta"
            ]
          },
          "metadata": {
            "tags": []
          },
          "execution_count": 10
        }
      ]
    },
    {
      "cell_type": "code",
      "metadata": {
        "colab": {
          "base_uri": "https://localhost:8080/"
        },
        "id": "OQNI4Mhi6T1X",
        "outputId": "d0b969f9-196f-4cf8-cabb-52424c115bc9"
      },
      "source": [
        "print(\"**지정된 두 날짜의 차이는 {}일입니다.\".format(diff_day.days))"
      ],
      "execution_count": null,
      "outputs": [
        {
          "output_type": "stream",
          "text": [
            "**지정된 두 날짜의 차이는 100일입니다.\n"
          ],
          "name": "stdout"
        }
      ]
    },
    {
      "cell_type": "code",
      "metadata": {
        "id": "C6Bi-k7N6mJA",
        "colab": {
          "base_uri": "https://localhost:8080/"
        },
        "outputId": "4282d137-7481-46e8-f1a8-83a27b48d263"
      },
      "source": [
        "import datetime\n",
        "print(datetime.date.today())"
      ],
      "execution_count": 14,
      "outputs": [
        {
          "output_type": "stream",
          "text": [
            "2021-08-04\n"
          ],
          "name": "stdout"
        }
      ]
    },
    {
      "cell_type": "code",
      "metadata": {
        "colab": {
          "base_uri": "https://localhost:8080/"
        },
        "id": "H7uuDt4Xc_WC",
        "outputId": "b61c1893-038d-45c8-cf28-99933c0eff0f"
      },
      "source": [
        "import datetime\n",
        "\n",
        "today = datetime.date.today()\n",
        "special_day = datetime.date(2020,12,31)\n",
        "print(special_day - today)"
      ],
      "execution_count": 15,
      "outputs": [
        {
          "output_type": "stream",
          "text": [
            "-216 days, 0:00:00\n"
          ],
          "name": "stdout"
        }
      ]
    },
    {
      "cell_type": "code",
      "metadata": {
        "colab": {
          "base_uri": "https://localhost:8080/"
        },
        "id": "yooj4xJEdNzv",
        "outputId": "c95cd040-6ba3-4445-c5a7-94265ccc5916"
      },
      "source": [
        "import datetime\n",
        "\n",
        "set_time = datetime.time(15,30,45)\n",
        "print(set_time)"
      ],
      "execution_count": 16,
      "outputs": [
        {
          "output_type": "stream",
          "text": [
            "15:30:45\n"
          ],
          "name": "stdout"
        }
      ]
    },
    {
      "cell_type": "code",
      "metadata": {
        "colab": {
          "base_uri": "https://localhost:8080/"
        },
        "id": "jhab02TOdf2b",
        "outputId": "a359de75-2805-43f5-92a0-923ccc9ce057"
      },
      "source": [
        "print('{0}:{1}:{2}'.format(set_time.hour, set_time.minute, set_time.second))"
      ],
      "execution_count": 19,
      "outputs": [
        {
          "output_type": "stream",
          "text": [
            "15:30:45\n"
          ],
          "name": "stdout"
        }
      ]
    },
    {
      "cell_type": "code",
      "metadata": {
        "colab": {
          "base_uri": "https://localhost:8080/"
        },
        "id": "KAfic4H1duGs",
        "outputId": "245732a2-ac5f-40d5-e9b2-b52a7d1e243f"
      },
      "source": [
        "import datetime\n",
        "\n",
        "set_dt = datetime.datetime(2021,8,2,10,20,0)\n",
        "print(set_dt)"
      ],
      "execution_count": 23,
      "outputs": [
        {
          "output_type": "stream",
          "text": [
            "2021-08-02 10:20:00\n"
          ],
          "name": "stdout"
        }
      ]
    },
    {
      "cell_type": "code",
      "metadata": {
        "colab": {
          "base_uri": "https://localhost:8080/"
        },
        "id": "BpnkP0hyeFym",
        "outputId": "32de71d2-272c-458a-cb80-87c956df3355"
      },
      "source": [
        "print('날짜: {0}/{1}/{2}'.format(set_dt.year, set_dt.month, set_dt.day))\n",
        "print(\"시각: {0}/{1}/{2}\".format(set_dt.hour, set_dt.minute, set_dt.second))"
      ],
      "execution_count": 24,
      "outputs": [
        {
          "output_type": "stream",
          "text": [
            "날짜: 2021/8/2\n",
            "시각: 10/20/0\n"
          ],
          "name": "stdout"
        }
      ]
    },
    {
      "cell_type": "code",
      "metadata": {
        "colab": {
          "base_uri": "https://localhost:8080/"
        },
        "id": "wMV2-g9helvS",
        "outputId": "f4967a9e-dd8d-47b7-cfe9-d520e3e0237e"
      },
      "source": [
        "import datetime\n",
        "now = datetime.datetime.now()\n",
        "print(now)"
      ],
      "execution_count": 27,
      "outputs": [
        {
          "output_type": "stream",
          "text": [
            "2021-08-04 04:45:52.696139\n"
          ],
          "name": "stdout"
        }
      ]
    },
    {
      "cell_type": "code",
      "metadata": {
        "colab": {
          "base_uri": "https://localhost:8080/"
        },
        "id": "LGmSzm5iewaW",
        "outputId": "9d734bfa-4932-457c-f53b-de372586e7b8"
      },
      "source": [
        "# %Y-%m-%d,%H:%M:%S 이 값들은 {:}안에 있어야함\n",
        "print(\"Date & Time: {:%Y-%m-%d,%H:%M:%S}\".format(now))"
      ],
      "execution_count": 32,
      "outputs": [
        {
          "output_type": "stream",
          "text": [
            "Date & Time: 2021-08-04,04:45:52\n"
          ],
          "name": "stdout"
        }
      ]
    },
    {
      "cell_type": "code",
      "metadata": {
        "colab": {
          "base_uri": "https://localhost:8080/"
        },
        "id": "0ci1aqN1fSGJ",
        "outputId": "6c380485-9165-4fe2-e4d2-dd48b7a9d4f7"
      },
      "source": [
        "print(\"Date: {:%Y, %m, %d}\".format(now))\n",
        "print(\"Time: {:%H/%M/%S}\".format(now))"
      ],
      "execution_count": 34,
      "outputs": [
        {
          "output_type": "stream",
          "text": [
            "Date: 2021, 08, 04\n",
            "Time: 04/45/52\n"
          ],
          "name": "stdout"
        }
      ]
    },
    {
      "cell_type": "code",
      "metadata": {
        "colab": {
          "base_uri": "https://localhost:8080/"
        },
        "id": "bWeHp3V-iEae",
        "outputId": "9dd44906-d472-4e4e-b90b-463dd83b72f2"
      },
      "source": [
        "now = datetime.datetime.now()\n",
        "set_dt = datetime.datetime(2020,12,1,12,30,45)\n",
        "print(\"현재 날짜 및 시각:\", now)\n",
        "print(\"차이:\", set_dt - now)\n",
        "# set_dt가 음수로 나오는 것은 set_dt가 now보다 과거이기 때문임."
      ],
      "execution_count": 35,
      "outputs": [
        {
          "output_type": "stream",
          "text": [
            "현재 날짜 및 시각: 2021-08-04 05:01:33.614119\n",
            "차이: -246 days, 7:29:11.385881\n"
          ],
          "name": "stdout"
        }
      ]
    },
    {
      "cell_type": "code",
      "metadata": {
        "colab": {
          "base_uri": "https://localhost:8080/"
        },
        "id": "wAjhLVSsichc",
        "outputId": "91472f54-eea1-44f7-a596-39e2fc1258c2"
      },
      "source": [
        "# datetime모듈의 객체를 import모듈명을 수행한 후에 사용했지만\n",
        "# from모듈명import클래스명 방법을 이용하면 모듈명 없이 바로 클래스 이름이나 클래스 메서드 이름으로 이용할 수 있음\n",
        "from datetime import date, time, datetime\n",
        "print(date(2021,7,1))"
      ],
      "execution_count": 38,
      "outputs": [
        {
          "output_type": "stream",
          "text": [
            "2021-07-01\n"
          ],
          "name": "stdout"
        }
      ]
    },
    {
      "cell_type": "code",
      "metadata": {
        "colab": {
          "base_uri": "https://localhost:8080/"
        },
        "id": "KV0v_ez4i81L",
        "outputId": "5d0195db-9c5d-415a-ff3a-e09d0ee812c9"
      },
      "source": [
        "print(date.today())"
      ],
      "execution_count": 39,
      "outputs": [
        {
          "output_type": "stream",
          "text": [
            "2021-08-04\n"
          ],
          "name": "stdout"
        }
      ]
    },
    {
      "cell_type": "code",
      "metadata": {
        "colab": {
          "base_uri": "https://localhost:8080/"
        },
        "id": "wNVVfCrEjJ0t",
        "outputId": "b8ad5a31-8674-4ce8-b9f0-0c904314b1cd"
      },
      "source": [
        "print(time(15,30,45))"
      ],
      "execution_count": 40,
      "outputs": [
        {
          "output_type": "stream",
          "text": [
            "15:30:45\n"
          ],
          "name": "stdout"
        }
      ]
    },
    {
      "cell_type": "code",
      "metadata": {
        "colab": {
          "base_uri": "https://localhost:8080/"
        },
        "id": "OIb8skUtjNBL",
        "outputId": "cf43af1a-3afe-41b4-a8ba-5e8911e8f1d3"
      },
      "source": [
        "print(datetime.now())"
      ],
      "execution_count": 41,
      "outputs": [
        {
          "output_type": "stream",
          "text": [
            "2021-08-04 05:05:00.867277\n"
          ],
          "name": "stdout"
        }
      ]
    },
    {
      "cell_type": "code",
      "metadata": {
        "colab": {
          "base_uri": "https://localhost:8080/",
          "height": 69
        },
        "id": "YDFa5WE3jPFX",
        "outputId": "fe3fd584-6cde-4e60-e44e-a195782bdde6"
      },
      "source": [
        "import calendar\n",
        "calendar.month(2021,8)"
      ],
      "execution_count": 50,
      "outputs": [
        {
          "output_type": "execute_result",
          "data": {
            "application/vnd.google.colaboratory.intrinsic+json": {
              "type": "string"
            },
            "text/plain": [
              "'    August 2021\\nMo Tu We Th Fr Sa Su\\n                   1\\n 2  3  4  5  6  7  8\\n 9 10 11 12 13 14 15\\n16 17 18 19 20 21 22\\n23 24 25 26 27 28 29\\n30 31\\n'"
            ]
          },
          "metadata": {
            "tags": []
          },
          "execution_count": 50
        }
      ]
    },
    {
      "cell_type": "code",
      "metadata": {
        "colab": {
          "base_uri": "https://localhost:8080/"
        },
        "id": "sWA4xosrkaye",
        "outputId": "5deaf97c-4cb2-4dbd-8a7f-e2b91c5c61dd"
      },
      "source": [
        "# 0,1,2,3,4,5,6\n",
        "# 월,화,수,목,금,토,일 차례대로!!\n",
        "calendar.monthrange(2021,8) # 시작요일과 총 며칠인지 반환"
      ],
      "execution_count": 52,
      "outputs": [
        {
          "output_type": "execute_result",
          "data": {
            "text/plain": [
              "(6, 31)"
            ]
          },
          "metadata": {
            "tags": []
          },
          "execution_count": 52
        }
      ]
    },
    {
      "cell_type": "code",
      "metadata": {
        "colab": {
          "base_uri": "https://localhost:8080/"
        },
        "id": "b_32OhzElEoO",
        "outputId": "16b533fa-ce58-4d0d-a51e-45655aabcd58"
      },
      "source": [
        "# 달력에 표시되는 주의 첫 번째 요일값을 반환. 기본값으로는 월요일(0)로 지정됨\n",
        "calendar.firstweekday()"
      ],
      "execution_count": 53,
      "outputs": [
        {
          "output_type": "execute_result",
          "data": {
            "text/plain": [
              "0"
            ]
          },
          "metadata": {
            "tags": []
          },
          "execution_count": 53
        }
      ]
    },
    {
      "cell_type": "code",
      "metadata": {
        "id": "CbLtunDqlnc4"
      },
      "source": [
        "# 달력에 표시되는 주의 첫 번째 요일값을 지정.\n",
        "calendar.setfirstweekday(6)"
      ],
      "execution_count": 54,
      "outputs": []
    },
    {
      "cell_type": "code",
      "metadata": {
        "colab": {
          "base_uri": "https://localhost:8080/"
        },
        "id": "kf79tsprlzM1",
        "outputId": "5a596356-82b4-4c33-f486-000575ea69dc"
      },
      "source": [
        "# 지정된 일자의 요일을 반환\n",
        "calendar.weekday(2021,8,9)"
      ],
      "execution_count": 55,
      "outputs": [
        {
          "output_type": "execute_result",
          "data": {
            "text/plain": [
              "0"
            ]
          },
          "metadata": {
            "tags": []
          },
          "execution_count": 55
        }
      ]
    },
    {
      "cell_type": "code",
      "metadata": {
        "colab": {
          "base_uri": "https://localhost:8080/"
        },
        "id": "BuRl_oQil9RE",
        "outputId": "cb3b984b-52ff-4d63-af39-853581ac9fbb"
      },
      "source": [
        "# calendar 함수의 기본적인 달력은 3열로 출력\n",
        "import calendar\n",
        "print(calendar.calendar(2021))"
      ],
      "execution_count": 56,
      "outputs": [
        {
          "output_type": "stream",
          "text": [
            "                                  2021\n",
            "\n",
            "      January                   February                   March\n",
            "Su Mo Tu We Th Fr Sa      Su Mo Tu We Th Fr Sa      Su Mo Tu We Th Fr Sa\n",
            "                1  2          1  2  3  4  5  6          1  2  3  4  5  6\n",
            " 3  4  5  6  7  8  9       7  8  9 10 11 12 13       7  8  9 10 11 12 13\n",
            "10 11 12 13 14 15 16      14 15 16 17 18 19 20      14 15 16 17 18 19 20\n",
            "17 18 19 20 21 22 23      21 22 23 24 25 26 27      21 22 23 24 25 26 27\n",
            "24 25 26 27 28 29 30      28                        28 29 30 31\n",
            "31\n",
            "\n",
            "       April                      May                       June\n",
            "Su Mo Tu We Th Fr Sa      Su Mo Tu We Th Fr Sa      Su Mo Tu We Th Fr Sa\n",
            "             1  2  3                         1             1  2  3  4  5\n",
            " 4  5  6  7  8  9 10       2  3  4  5  6  7  8       6  7  8  9 10 11 12\n",
            "11 12 13 14 15 16 17       9 10 11 12 13 14 15      13 14 15 16 17 18 19\n",
            "18 19 20 21 22 23 24      16 17 18 19 20 21 22      20 21 22 23 24 25 26\n",
            "25 26 27 28 29 30         23 24 25 26 27 28 29      27 28 29 30\n",
            "                          30 31\n",
            "\n",
            "        July                     August                  September\n",
            "Su Mo Tu We Th Fr Sa      Su Mo Tu We Th Fr Sa      Su Mo Tu We Th Fr Sa\n",
            "             1  2  3       1  2  3  4  5  6  7                1  2  3  4\n",
            " 4  5  6  7  8  9 10       8  9 10 11 12 13 14       5  6  7  8  9 10 11\n",
            "11 12 13 14 15 16 17      15 16 17 18 19 20 21      12 13 14 15 16 17 18\n",
            "18 19 20 21 22 23 24      22 23 24 25 26 27 28      19 20 21 22 23 24 25\n",
            "25 26 27 28 29 30 31      29 30 31                  26 27 28 29 30\n",
            "\n",
            "      October                   November                  December\n",
            "Su Mo Tu We Th Fr Sa      Su Mo Tu We Th Fr Sa      Su Mo Tu We Th Fr Sa\n",
            "                1  2          1  2  3  4  5  6                1  2  3  4\n",
            " 3  4  5  6  7  8  9       7  8  9 10 11 12 13       5  6  7  8  9 10 11\n",
            "10 11 12 13 14 15 16      14 15 16 17 18 19 20      12 13 14 15 16 17 18\n",
            "17 18 19 20 21 22 23      21 22 23 24 25 26 27      19 20 21 22 23 24 25\n",
            "24 25 26 27 28 29 30      28 29 30                  26 27 28 29 30 31\n",
            "31\n",
            "\n"
          ],
          "name": "stdout"
        }
      ]
    },
    {
      "cell_type": "code",
      "metadata": {
        "colab": {
          "base_uri": "https://localhost:8080/"
        },
        "id": "WnkFs8-wmntd",
        "outputId": "163755ea-cd39-4a45-95d8-7ca4442b21ea"
      },
      "source": [
        "print(calendar.calendar(2021, m = 8)) #m = 숫자 해서 몇 열로 출력할지 지정 가능.\n"
      ],
      "execution_count": 61,
      "outputs": [
        {
          "output_type": "stream",
          "text": [
            "                                                                                                   2021\n",
            "\n",
            "      January                   February                   March                     April                      May                       June                      July                     August\n",
            "Su Mo Tu We Th Fr Sa      Su Mo Tu We Th Fr Sa      Su Mo Tu We Th Fr Sa      Su Mo Tu We Th Fr Sa      Su Mo Tu We Th Fr Sa      Su Mo Tu We Th Fr Sa      Su Mo Tu We Th Fr Sa      Su Mo Tu We Th Fr Sa\n",
            "                1  2          1  2  3  4  5  6          1  2  3  4  5  6                   1  2  3                         1             1  2  3  4  5                   1  2  3       1  2  3  4  5  6  7\n",
            " 3  4  5  6  7  8  9       7  8  9 10 11 12 13       7  8  9 10 11 12 13       4  5  6  7  8  9 10       2  3  4  5  6  7  8       6  7  8  9 10 11 12       4  5  6  7  8  9 10       8  9 10 11 12 13 14\n",
            "10 11 12 13 14 15 16      14 15 16 17 18 19 20      14 15 16 17 18 19 20      11 12 13 14 15 16 17       9 10 11 12 13 14 15      13 14 15 16 17 18 19      11 12 13 14 15 16 17      15 16 17 18 19 20 21\n",
            "17 18 19 20 21 22 23      21 22 23 24 25 26 27      21 22 23 24 25 26 27      18 19 20 21 22 23 24      16 17 18 19 20 21 22      20 21 22 23 24 25 26      18 19 20 21 22 23 24      22 23 24 25 26 27 28\n",
            "24 25 26 27 28 29 30      28                        28 29 30 31               25 26 27 28 29 30         23 24 25 26 27 28 29      27 28 29 30               25 26 27 28 29 30 31      29 30 31\n",
            "31                                                                                                      30 31\n",
            "\n",
            "     September                  October                   November                  December\n",
            "Su Mo Tu We Th Fr Sa      Su Mo Tu We Th Fr Sa      Su Mo Tu We Th Fr Sa      Su Mo Tu We Th Fr Sa\n",
            "          1  2  3  4                      1  2          1  2  3  4  5  6                1  2  3  4\n",
            " 5  6  7  8  9 10 11       3  4  5  6  7  8  9       7  8  9 10 11 12 13       5  6  7  8  9 10 11\n",
            "12 13 14 15 16 17 18      10 11 12 13 14 15 16      14 15 16 17 18 19 20      12 13 14 15 16 17 18\n",
            "19 20 21 22 23 24 25      17 18 19 20 21 22 23      21 22 23 24 25 26 27      19 20 21 22 23 24 25\n",
            "26 27 28 29 30            24 25 26 27 28 29 30      28 29 30                  26 27 28 29 30 31\n",
            "                          31\n",
            "\n"
          ],
          "name": "stdout"
        }
      ]
    },
    {
      "cell_type": "markdown",
      "metadata": {
        "id": "9SXwXF0vzCh2"
      },
      "source": [
        "> 파이썬 패키지(package)\n",
        "\n",
        "    * 패키지는 폴더 구조로 돼 있으며 각 폴더에는 __init__.py라는 특별한 파일\n",
        "    *__init__.py 파일은 해당 폴더가 패키지의 일부인 것을 알려주느 역할\n",
        "    * __init__.py파일은 패키지를 초기화하는 코드를 넣을 수도 있고 아무 코드도 없는 빈 파일일 수도 있음\n",
        "    * 패키지를 만들 떄 __init__.py파일이 없어도 되지만 하위 호환성을 고려하면 __init__.py파일을 포함하는 것이 좋음\n",
        "\n"
      ]
    },
    {
      "cell_type": "markdown",
      "metadata": {
        "id": "V_mv6ZUiERTB"
      },
      "source": [
        "\n",
        "    * 클래스 안에 있는 함수를 메서드라고함 \n",
        "\n",
        "    * 객체는 `속성`(상태, 특징)과 `행위`(행동, 동작, 기능)으로 구성된 대상을 의미\n",
        "\n",
        "    * 프로글매 언어에서 객체를 만들 때는 주로 현실 세계를 반영\n",
        "\n",
        "    * 객체의 특징인 속성은 변수로, 객체가 할 수 있는 일인 행동은 함수로 구현\n",
        "    -> 객체가 자전거면 바퀴의 크기와 색깔 등은 변수로 구현하고 전진하거나 방향전환 정지 등의 동작은 함수로 표현\n",
        "\n",
        "    -> 객체가 사람이면 이름, 몸무게 등이 속성으로 변수로 구현하고 걷거나 뛰거나 앉는 등의 행위를 함수로 구현\n",
        "\n",
        "    * 객체는 변수와 함수의 묶음\n",
        "\n",
        "    * 객체를 만들고 이용할 수 있는 기능을 제공하는 프로그래밍 언어를 객체지향(Object Oriented Programming) 언어라고 함\n"
      ]
    },
    {
      "cell_type": "code",
      "metadata": {
        "id": "hNWmXiduGoFy"
      },
      "source": [
        "class Bicycle():\n",
        "    pass"
      ],
      "execution_count": 70,
      "outputs": []
    },
    {
      "cell_type": "code",
      "metadata": {
        "id": "HivalgSzQ0LZ"
      },
      "source": [
        "# 아래와 같이 객체.변수(속성) = 속성의 값으로 구조가 만들어 진다.\n",
        "# my_bicycle.wheel_size = 26\n",
        "# my_bicycle.color = 'black'"
      ],
      "execution_count": null,
      "outputs": []
    }
  ]
}