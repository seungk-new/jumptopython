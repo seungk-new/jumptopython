{
  "nbformat": 4,
  "nbformat_minor": 0,
  "metadata": {
    "colab": {
      "name": "730lesson.ipynb",
      "provenance": [],
      "collapsed_sections": []
    },
    "kernelspec": {
      "name": "python3",
      "display_name": "Python 3"
    },
    "language_info": {
      "name": "python"
    }
  },
  "cells": [
    {
      "cell_type": "code",
      "metadata": {
        "colab": {
          "base_uri": "https://localhost:8080/"
        },
        "id": "BzA9ZpzEvJNV",
        "outputId": "b502eb26-5f03-42e0-982f-5f801ca7d66f"
      },
      "source": [
        "lambda_function = lambda x : x + 2\n",
        "lambda_function(2)"
      ],
      "execution_count": null,
      "outputs": [
        {
          "output_type": "execute_result",
          "data": {
            "text/plain": [
              "4"
            ]
          },
          "metadata": {
            "tags": []
          },
          "execution_count": 1
        }
      ]
    },
    {
      "cell_type": "code",
      "metadata": {
        "colab": {
          "base_uri": "https://localhost:8080/"
        },
        "id": "7zF7O4n801vD",
        "outputId": "9962b828-53bd-4375-9b30-f959c52e8340"
      },
      "source": [
        "bool(\"\")"
      ],
      "execution_count": null,
      "outputs": [
        {
          "output_type": "execute_result",
          "data": {
            "text/plain": [
              "False"
            ]
          },
          "metadata": {
            "tags": []
          },
          "execution_count": 2
        }
      ]
    },
    {
      "cell_type": "code",
      "metadata": {
        "colab": {
          "base_uri": "https://localhost:8080/"
        },
        "id": "V0oGO76_2MDB",
        "outputId": "0ae0484f-962a-450d-9043-dfcb152006b6"
      },
      "source": [
        "coffee_menu_str = \"에스프레소, 아메리카노, 카페라떼, 카푸치노\"\n",
        "coffee_menu_str.split(',')"
      ],
      "execution_count": null,
      "outputs": [
        {
          "output_type": "execute_result",
          "data": {
            "text/plain": [
              "['에스프레소', ' 아메리카노', ' 카페라떼', ' 카푸치노']"
            ]
          },
          "metadata": {
            "tags": []
          },
          "execution_count": 7
        }
      ]
    },
    {
      "cell_type": "code",
      "metadata": {
        "colab": {
          "base_uri": "https://localhost:8080/"
        },
        "id": "mRWqxYpx-D3H",
        "outputId": "bfe46fad-fdfe-4f52-fc39-d0e81de9b363"
      },
      "source": [
        "\"에스프레소 아미레카노 카페라떼 바닐라라떼\".split(' ')#split인자로 ' '안 넣고 비워놔도 같은 결과 반환"
      ],
      "execution_count": null,
      "outputs": [
        {
          "output_type": "execute_result",
          "data": {
            "text/plain": [
              "['에스프레소', '아미레카노', '카페라떼', '바닐라라떼']"
            ]
          },
          "metadata": {
            "tags": []
          },
          "execution_count": 11
        }
      ]
    },
    {
      "cell_type": "code",
      "metadata": {
        "colab": {
          "base_uri": "https://localhost:8080/"
        },
        "id": "0hZK2jwA2NNU",
        "outputId": "6568b9e1-a02d-4a10-8991-4d68ef31fd70"
      },
      "source": [
        "\"에스프레소 \\n 아메리카노 \\n 카페라떼 \\n 우유 \\n\".split()\n",
        "# 문자열에 인자 없이 split()를 사용하면 문자열 사이의 모든 공백과 개행문자를 없애고 분리된 문자열을 반환\n",
        "# 단어 사이에 공백과 개행문자가 아무리 많아도 split()사용 시 공백과 개행문자 모두 없애고 문자열을 분리"
      ],
      "execution_count": null,
      "outputs": [
        {
          "output_type": "execute_result",
          "data": {
            "text/plain": [
              "['에스프레소', '아메리카노', '카페라떼', '우유']"
            ]
          },
          "metadata": {
            "tags": []
          },
          "execution_count": 12
        }
      ]
    },
    {
      "cell_type": "code",
      "metadata": {
        "id": "AZcgc3JXADl4"
      },
      "source": [
        "# 클래스 안에 들어가 있는 함수는 메서드라고 함. ex) .format"
      ],
      "execution_count": null,
      "outputs": []
    },
    {
      "cell_type": "code",
      "metadata": {
        "colab": {
          "base_uri": "https://localhost:8080/"
        },
        "id": "0e7vbpRUAqv1",
        "outputId": "94bcac55-714f-448a-b2ea-85c826afec22"
      },
      "source": [
        "\"에스프레소- 아메리카노- 카페라떼 카푸치노\".split('-',maxsplit = 1)\n",
        "#sep()은 구분자고 'maxsplit = 숫자'로 몇 번째 구분자까지 분할해 줄지 정할 수 있음."
      ],
      "execution_count": null,
      "outputs": [
        {
          "output_type": "execute_result",
          "data": {
            "text/plain": [
              "['에스프레소', ' 아메리카노- 카페라떼 카푸치노']"
            ]
          },
          "metadata": {
            "tags": []
          },
          "execution_count": 33
        }
      ]
    },
    {
      "cell_type": "code",
      "metadata": {
        "colab": {
          "base_uri": "https://localhost:8080/"
        },
        "id": "roV3dz5nAw4C",
        "outputId": "fb4df694-3331-4ade-823c-d853055f79f4"
      },
      "source": [
        "phone_number = \"+82-01-2345-6789\"\n",
        "split_num = phone_number.split(\"-\",maxsplit = 1)#maxsplit이라는 단어는 생략해도 됨.\n",
        "print(split_num)\n",
        "print(\"국내전화번호: {0}\".format(split_num[1]))"
      ],
      "execution_count": null,
      "outputs": [
        {
          "output_type": "stream",
          "text": [
            "['+82', '01-2345-6789']\n",
            "국내전화번호: 01-2345-6789\n"
          ],
          "name": "stdout"
        }
      ]
    },
    {
      "cell_type": "code",
      "metadata": {
        "id": "gbf9ZH3fTc9n",
        "colab": {
          "base_uri": "https://localhost:8080/",
          "height": 35
        },
        "outputId": "d43ffdd3-7557-4c75-e247-39a48f813659"
      },
      "source": [
        "my_str = \"  nice to meet you python!  \"\n",
        "my_str.strip()\n"
      ],
      "execution_count": null,
      "outputs": [
        {
          "output_type": "execute_result",
          "data": {
            "application/vnd.google.colaboratory.intrinsic+json": {
              "type": "string"
            },
            "text/plain": [
              "'nice to meet you python!'"
            ]
          },
          "metadata": {
            "tags": []
          },
          "execution_count": 1
        }
      ]
    },
    {
      "cell_type": "code",
      "metadata": {
        "colab": {
          "base_uri": "https://localhost:8080/",
          "height": 35
        },
        "id": "r77UZI52rtG7",
        "outputId": "38e9132e-b7e6-426e-fbf2-65019791f8a0"
      },
      "source": [
        "my_str1 = \"aaanice to meet you python!\"\n",
        "my_str.strip(\" a\")"
      ],
      "execution_count": null,
      "outputs": [
        {
          "output_type": "execute_result",
          "data": {
            "application/vnd.google.colaboratory.intrinsic+json": {
              "type": "string"
            },
            "text/plain": [
              "'nice to meet you python!'"
            ]
          },
          "metadata": {
            "tags": []
          },
          "execution_count": 4
        }
      ]
    },
    {
      "cell_type": "code",
      "metadata": {
        "colab": {
          "base_uri": "https://localhost:8080/"
        },
        "id": "dwRt0Aawr3iK",
        "outputId": "c41ae0fe-1ee3-4102-f508-db4050467513"
      },
      "source": [
        "test_str = 'aaabbPythonbbaa'\n",
        "temp1 = test_str.strip('ab')\n",
        "print(temp1)"
      ],
      "execution_count": null,
      "outputs": [
        {
          "output_type": "stream",
          "text": [
            "Python\n"
          ],
          "name": "stdout"
        }
      ]
    },
    {
      "cell_type": "code",
      "metadata": {
        "colab": {
          "base_uri": "https://localhost:8080/"
        },
        "id": "1qITfNIwtKJc",
        "outputId": "f1146d44-938b-4156-eb02-de2b12418062"
      },
      "source": [
        "ts = \"hello, wolrd,   python, java  , etc\"\n",
        "ts1 = ts.split(',')\n",
        "print(ts)"
      ],
      "execution_count": null,
      "outputs": [
        {
          "output_type": "stream",
          "text": [
            "hello, wolrd,   python, java  , etc\n"
          ],
          "name": "stdout"
        }
      ]
    },
    {
      "cell_type": "code",
      "metadata": {
        "colab": {
          "base_uri": "https://localhost:8080/"
        },
        "id": "kBtu1yyjtkk1",
        "outputId": "41aa9af1-a99f-43cd-ef8a-e9cefb3b2d7e"
      },
      "source": [
        "result_list = []\n",
        "for i in ts1:\n",
        "    temp = i.strip()\n",
        "    result_list.append(temp)\n",
        "\n",
        "print(result_list)"
      ],
      "execution_count": null,
      "outputs": [
        {
          "output_type": "stream",
          "text": [
            "['hello', 'wolrd', 'python', 'java', 'etc']\n"
          ],
          "name": "stdout"
        }
      ]
    },
    {
      "cell_type": "code",
      "metadata": {
        "colab": {
          "base_uri": "https://localhost:8080/",
          "height": 35
        },
        "id": "iIy_1JmcuSGv",
        "outputId": "479011f3-4749-4754-be4f-309c4282130e"
      },
      "source": [
        "\"\\n python \\n\\n\".strip()#지우고자 하는 문자가 공백과 개행문자라면 인자를 지정하지 않고 strip()을 실행해도 됨."
      ],
      "execution_count": null,
      "outputs": [
        {
          "output_type": "execute_result",
          "data": {
            "application/vnd.google.colaboratory.intrinsic+json": {
              "type": "string"
            },
            "text/plain": [
              "'python'"
            ]
          },
          "metadata": {
            "tags": []
          },
          "execution_count": 13
        }
      ]
    },
    {
      "cell_type": "code",
      "metadata": {
        "id": "B8BzKUTzutVD",
        "colab": {
          "base_uri": "https://localhost:8080/"
        },
        "outputId": "60c4a83e-eee6-48a4-a0e5-5fc9f43667ef"
      },
      "source": [
        "my_str = \"아아, 아바라, 카페라떼,   에스프레소\"\n",
        "oo = my_str.split(',')\n",
        "print(oo)\n",
        "re_list = []\n",
        "for menu in oo:\n",
        "    temp = menu.strip()\n",
        "    re_list.append(temp)\n",
        "\n",
        "print(re_list)"
      ],
      "execution_count": 40,
      "outputs": [
        {
          "output_type": "stream",
          "text": [
            "['아아', ' 아바라', ' 카페라떼', '   에스프레소']\n",
            "['아아', '아바라', '카페라떼', '에스프레소']\n"
          ],
          "name": "stdout"
        }
      ]
    },
    {
      "cell_type": "code",
      "metadata": {
        "colab": {
          "base_uri": "https://localhost:8080/"
        },
        "id": "fHtSQ4L25vIz",
        "outputId": "2474598c-8b79-44e5-cdd4-48b45bbcbd08"
      },
      "source": [
        "name1 = \"철수\"\n",
        "name2 = \"영미\"\n",
        "\n",
        "hello = \"님 주소와 전화 번호를 입력해 주세요.\"\n",
        "print(name1 + hello)\n",
        "print(name2 + hello)"
      ],
      "execution_count": 41,
      "outputs": [
        {
          "output_type": "stream",
          "text": [
            "철수님 주소와 전화 번호를 입력해 주세요.\n",
            "영미님 주소와 전화 번호를 입력해 주세요.\n"
          ],
          "name": "stdout"
        }
      ]
    },
    {
      "cell_type": "markdown",
      "metadata": {
        "id": "SFSfdkn-GkZg"
      },
      "source": [
        "> 구분자 문자열을 변수에 할당하지 않고 직접 지정할 수도 있음"
      ]
    },
    {
      "cell_type": "code",
      "metadata": {
        "colab": {
          "base_uri": "https://localhost:8080/",
          "height": 35
        },
        "id": "iJhpgfQbDjQa",
        "outputId": "28add0cd-ca40-46c5-c661-30e4657480eb"
      },
      "source": [
        "my_str = 'hello', 'python'\n",
        "\" \".join(my_str)"
      ],
      "execution_count": 50,
      "outputs": [
        {
          "output_type": "execute_result",
          "data": {
            "application/vnd.google.colaboratory.intrinsic+json": {
              "type": "string"
            },
            "text/plain": [
              "'hello python'"
            ]
          },
          "metadata": {
            "tags": []
          },
          "execution_count": 50
        }
      ]
    },
    {
      "cell_type": "code",
      "metadata": {
        "colab": {
          "base_uri": "https://localhost:8080/",
          "height": 35
        },
        "id": "y37_7d-pDyrJ",
        "outputId": "024f63a7-c83d-4543-91c5-2192ac424b2b"
      },
      "source": [
        "' my '.join(my_str)"
      ],
      "execution_count": 55,
      "outputs": [
        {
          "output_type": "execute_result",
          "data": {
            "application/vnd.google.colaboratory.intrinsic+json": {
              "type": "string"
            },
            "text/plain": [
              "'hello my python'"
            ]
          },
          "metadata": {
            "tags": []
          },
          "execution_count": 55
        }
      ]
    },
    {
      "cell_type": "markdown",
      "metadata": {
        "id": "wDfY-81WGLe4"
      },
      "source": [
        "> join()메서드를 이용해 문자열 리스트를 문자열로 변환\n"
      ]
    },
    {
      "cell_type": "code",
      "metadata": {
        "colab": {
          "base_uri": "https://localhost:8080/",
          "height": 35
        },
        "id": "YmYlTqggGLMs",
        "outputId": "7e6571c6-db4b-45b6-dc31-599a0afc3168"
      },
      "source": [
        "address_list = ['서울시','서초구','반포대로','201(반포동)']\n",
        "a = '-'\n",
        "a.join(address_list)"
      ],
      "execution_count": 59,
      "outputs": [
        {
          "output_type": "execute_result",
          "data": {
            "application/vnd.google.colaboratory.intrinsic+json": {
              "type": "string"
            },
            "text/plain": [
              "'서울시-서초구-반포대로-201(반포동)'"
            ]
          },
          "metadata": {
            "tags": []
          },
          "execution_count": 59
        }
      ]
    },
    {
      "cell_type": "code",
      "metadata": {
        "colab": {
          "base_uri": "https://localhost:8080/"
        },
        "id": "bm43US0yFs5R",
        "outputId": "b0d70cbe-e836-4e3a-c66d-f945e43e62a1"
      },
      "source": [
        "str_f = 'Python code.'\n",
        "print('찾는 문자열의 위치', str_f.find(\"c\")) #find()메서드는 찾으려는 문장려과 일치하는 첫 번째 위치를 반환"
      ],
      "execution_count": 73,
      "outputs": [
        {
          "output_type": "stream",
          "text": [
            "찾는 문자열의 위치 7\n"
          ],
          "name": "stdout"
        }
      ]
    },
    {
      "cell_type": "code",
      "metadata": {
        "colab": {
          "base_uri": "https://localhost:8080/"
        },
        "id": "5TCMTFj4G1ZV",
        "outputId": "012ace6b-87c0-4374-f158-93f9939f53fd"
      },
      "source": [
        "str_f.find('n',1,8) #찾을 문자열의 범위를 지정해 줄 수 있다.\n",
        "                    #시작위치만 지정해 줘도 괜찮음."
      ],
      "execution_count": 79,
      "outputs": [
        {
          "output_type": "execute_result",
          "data": {
            "text/plain": [
              "5"
            ]
          },
          "metadata": {
            "tags": []
          },
          "execution_count": 79
        }
      ]
    },
    {
      "cell_type": "code",
      "metadata": {
        "colab": {
          "base_uri": "https://localhost:8080/"
        },
        "id": "eACTqjiiHOh7",
        "outputId": "b8ed9a0d-436f-47f4-ca03-a4516b19a19b"
      },
      "source": [
        "str_f.count('o') # 찾고자 하는 문자열이 몇개인지 반환"
      ],
      "execution_count": 80,
      "outputs": [
        {
          "output_type": "execute_result",
          "data": {
            "text/plain": [
              "2"
            ]
          },
          "metadata": {
            "tags": []
          },
          "execution_count": 80
        }
      ]
    },
    {
      "cell_type": "markdown",
      "metadata": {
        "id": "fX8jP2C-PyFc"
      },
      "source": [
        "> startwith()메서드와 endswith()메서드\n",
        "* ()로 시작하는지 끝나는지 True와 False로 반환해줌\n"
      ]
    },
    {
      "cell_type": "code",
      "metadata": {
        "colab": {
          "base_uri": "https://localhost:8080/"
        },
        "id": "tfvYh6b4Px4Z",
        "outputId": "825b7733-f2f2-49d6-f4fa-c81929536e44"
      },
      "source": [
        "str_se = \"Python is powerful. Python is easy to learn.\"\n",
        "print(\"Python으로 시작?:\", str_se.startswith(\"Python\"))\n",
        "print(\"is로 시작?:\", str_se.endswith(\"is\"))\n",
        "print(\".으로 끝?:\", str_se.endswith(\".\"))\n",
        "print(\"learn으로 끝?:\", str_se.endswith(\"learn\"))\n"
      ],
      "execution_count": 96,
      "outputs": [
        {
          "output_type": "stream",
          "text": [
            "Python으로 시작?: True\n",
            "is로 시작?: False\n",
            ".으로 끝?: True\n",
            "learn으로 끝?: False\n"
          ],
          "name": "stdout"
        }
      ]
    },
    {
      "cell_type": "code",
      "metadata": {
        "colab": {
          "base_uri": "https://localhost:8080/"
        },
        "id": "rzKs_tUORe6E",
        "outputId": "8a12f4a3-3b44-4029-bf6e-f0d94046e8d4"
      },
      "source": [
        "str_a = 'Python is fast. Python is friendly. Python is open'\n",
        "print(str_a.replace('Python','My python', 3))"
      ],
      "execution_count": 103,
      "outputs": [
        {
          "output_type": "stream",
          "text": [
            "My python is fast. My python is friendly. My python is open\n"
          ],
          "name": "stdout"
        }
      ]
    },
    {
      "cell_type": "code",
      "metadata": {
        "colab": {
          "base_uri": "https://localhost:8080/"
        },
        "id": "5BXl5KAkRrUS",
        "outputId": "35f614ad-5cda-4b5c-d4ed-ae2043ea7a4b"
      },
      "source": [
        "# 특정 문자열을 삭제할 때도 replace()메서드를 이용할 수 있음.\n",
        "str_b = '[Python] [is] [fast]'\n",
        "str_b1 = str_b.replace('[', '') # '[' 과 ']'을 둘 다 제거하려면 replace에서는 문자열을 하나씩만 지정할 수 있어서 replace()두번 사용해줘야함.\n",
        "str_b2 = str_b1.replace(']', '')\n",
        "print(str_b)\n",
        "print(str_b1)\n",
        "print(str_b2)"
      ],
      "execution_count": 110,
      "outputs": [
        {
          "output_type": "stream",
          "text": [
            "[Python] [is] [fast]\n",
            "Python] is] fast]\n",
            "Python is fast\n"
          ],
          "name": "stdout"
        }
      ]
    },
    {
      "cell_type": "markdown",
      "metadata": {
        "id": "wYiSe2CoTQsi"
      },
      "source": [
        "* str.isalpha() = 문자열이 숫자, 특수 문자, 공백이 아닌 문자로 구성되어 있을 때만 True 그 밖에는 False반환.\n",
        "* str.isdigit() = 문자열이 모두 숫자인가\n",
        "* str.isalnum = 문자열이 특수문자, 공백이 아닌 문자, 숫자로 구성돼있나\n",
        "* str.isspace() = 문자열이 모두 공백으로 돼있나\n",
        "* str.isupper() = 문자열이 모두 대문자인가\n",
        "* str.islower() = 문자열이 모두 소문자인가"
      ]
    },
    {
      "cell_type": "code",
      "metadata": {
        "colab": {
          "base_uri": "https://localhost:8080/"
        },
        "id": "nUPg0O_rTcCC",
        "outputId": "a27bee63-7470-4685-ae85-97b0c74a265c"
      },
      "source": [
        "print(('Python'.upper()=='python'.upper()))"
      ],
      "execution_count": 127,
      "outputs": [
        {
          "output_type": "stream",
          "text": [
            "True\n"
          ],
          "name": "stdout"
        }
      ]
    },
    {
      "cell_type": "code",
      "metadata": {
        "colab": {
          "base_uri": "https://localhost:8080/"
        },
        "id": "v8_WNAqOUfyq",
        "outputId": "2f1cbbc6-86cf-4e7a-c3c8-14f5f44503f7"
      },
      "source": [
        "file_name = 'coffeeShopSales.txt'\n",
        "f = open(file_name)\n",
        "for line in f:\n",
        "    print(line, end = '')\n",
        "f.close"
      ],
      "execution_count": 125,
      "outputs": [
        {
          "output_type": "stream",
          "text": [
            "날짜    에스프레소  아메리카노  카페라테  카푸치노\n",
            "10.15       10  \t50         45       20   \n",
            "10.16       12\t\t45         41       18\n",
            "10.17       11\t\t53         32       25\n",
            "10.18       15\t\t49         38       22"
          ],
          "name": "stdout"
        },
        {
          "output_type": "execute_result",
          "data": {
            "text/plain": [
              "<function TextIOWrapper.close>"
            ]
          },
          "metadata": {
            "tags": []
          },
          "execution_count": 125
        }
      ]
    },
    {
      "cell_type": "code",
      "metadata": {
        "colab": {
          "base_uri": "https://localhost:8080/"
        },
        "id": "5VE8GazpaI5O",
        "outputId": "50396cd4-526d-4e13-8f6d-b24c71659808"
      },
      "source": [
        "f = open(file_name)\n",
        "header = f.readline()\n",
        "f.close()\n",
        "\n",
        "print(header.strip('\\n'))"
      ],
      "execution_count": 130,
      "outputs": [
        {
          "output_type": "stream",
          "text": [
            "날짜    에스프레소  아메리카노  카페라테  카푸치노\n"
          ],
          "name": "stdout"
        }
      ]
    },
    {
      "cell_type": "code",
      "metadata": {
        "colab": {
          "base_uri": "https://localhost:8080/"
        },
        "id": "Tt4mlSuJdyPX",
        "outputId": "3051eadd-5df5-4ac3-9dd0-8f9352ddbd3e"
      },
      "source": [
        "!cat coffeeShopSales.txt #리눅스에서 파일 가져올 때 !cat"
      ],
      "execution_count": 131,
      "outputs": [
        {
          "output_type": "stream",
          "text": [
            "날짜    에스프레소  아메리카노  카페라테  카푸치노\n",
            "10.15       10  \t50         45       20   \n",
            "10.16       12\t\t45         41       18\n",
            "10.17       11\t\t53         32       25\n",
            "10.18       15\t\t49         38       22"
          ],
          "name": "stdout"
        }
      ]
    },
    {
      "cell_type": "markdown",
      "metadata": {
        "id": "6m_4z93hj7rL"
      },
      "source": [
        "소스부터 보지 말고 `데이타`부터 보기!"
      ]
    },
    {
      "cell_type": "code",
      "metadata": {
        "id": "VhYC2mX1kE9e"
      },
      "source": [
        ""
      ],
      "execution_count": null,
      "outputs": []
    }
  ]
}