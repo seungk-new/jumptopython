{
  "nbformat": 4,
  "nbformat_minor": 0,
  "metadata": {
    "colab": {
      "name": "Function_review.ipynb",
      "provenance": [],
      "collapsed_sections": []
    },
    "kernelspec": {
      "name": "python3",
      "display_name": "Python 3"
    },
    "language_info": {
      "name": "python"
    }
  },
  "cells": [
    {
      "cell_type": "code",
      "metadata": {
        "colab": {
          "base_uri": "https://localhost:8080/"
        },
        "id": "HkAWJBS9wrBF",
        "outputId": "d5f24ef6-d574-4799-ba64-8aa919cbf99c"
      },
      "source": [
        "# 인자도 없고 반환 값도 없는 함수\n",
        "def my_func():\n",
        "    print(\"My first function\")\n",
        "# 여기까지만 실행하면 아무 일도 일어나지 않음.\n",
        "my_func()\n",
        "# my_func()해서 호출하면 프린트값 반환."
      ],
      "execution_count": 5,
      "outputs": [
        {
          "output_type": "stream",
          "text": [
            "My first function\n"
          ],
          "name": "stdout"
        }
      ]
    },
    {
      "cell_type": "code",
      "metadata": {
        "colab": {
          "base_uri": "https://localhost:8080/"
        },
        "id": "QSr-sdPtyfO-",
        "outputId": "608cae9f-e498-4ca6-800f-7c6de9b97eff"
      },
      "source": [
        "# 인자는 있으나 반환 값이 없는 함수\n",
        "def my_friend(friendName):\n",
        "    print(\"{}는 나의 친구입니다.\".format(friendName))\n",
        "\n",
        "my_friend('철수')\n",
        "my_friend('영미')"
      ],
      "execution_count": 8,
      "outputs": [
        {
          "output_type": "stream",
          "text": [
            "철수는 나의 친구입니다.\n",
            "영미는 나의 친구입니다.\n"
          ],
          "name": "stdout"
        }
      ]
    },
    {
      "cell_type": "code",
      "metadata": {
        "colab": {
          "base_uri": "https://localhost:8080/"
        },
        "id": "eDZXbU1wy6ZJ",
        "outputId": "285f553f-81ad-4e91-9f7d-6b341e2f6168"
      },
      "source": [
        "# 함수에서는 인자가 하나일 수도 있고 여러 개일 수도 있음.\n",
        "# 아래는 인자가 3개인 함수\n",
        "\n",
        "def my_student_info(name, school_ID, phoneNumber):\n",
        "    print('_____________________')\n",
        "    print(\"-학생이름:\", name)\n",
        "    print(\"-학급번호:\",school_ID)\n",
        "    print(\"-전화번호:\", phoneNumber)\n",
        "    print('_____________________')\n",
        "\n",
        "my_student_info(\"james\",'22','010-0202-0202')\n",
        "\n",
        "# 함수를 정의할 대 세 개의 인자를 넘겨받로고 만들었기 때문에 호출할 때도 세 개의 인자를 입력해서 함수를 호출"
      ],
      "execution_count": 14,
      "outputs": [
        {
          "output_type": "stream",
          "text": [
            "_____________________\n",
            "-학생이름: james\n",
            "-학급번호: 22\n",
            "-전화번호: 010-0202-0202\n",
            "_____________________\n"
          ],
          "name": "stdout"
        }
      ]
    },
    {
      "cell_type": "code",
      "metadata": {
        "colab": {
          "base_uri": "https://localhost:8080/"
        },
        "id": "bKSYEx-Zzq2M",
        "outputId": "26f76b50-a75f-4597-e319-04947c157b26"
      },
      "source": [
        "# 인자값도 있고 반환 값도 있는 함수\n",
        "def my_calc(x,y):\n",
        "    z = x*y\n",
        "    return z\n",
        "\n",
        "my_calc(3,4)"
      ],
      "execution_count": 15,
      "outputs": [
        {
          "output_type": "execute_result",
          "data": {
            "text/plain": [
              "12"
            ]
          },
          "metadata": {
            "tags": []
          },
          "execution_count": 15
        }
      ]
    },
    {
      "cell_type": "code",
      "metadata": {
        "colab": {
          "base_uri": "https://localhost:8080/"
        },
        "id": "kGkKL81i0xX9",
        "outputId": "47ef6b97-103c-4818-c425-40feffb3075e"
      },
      "source": [
        "# 함수의 인자로 리스트, 세트, 튜플, 딕셔너리도 넣을 수 있음\n",
        "def my_student_info_list(student_info):\n",
        "    print('************')\n",
        "    print('*학생이름:', student_info[0])\n",
        "    print('*학급번호:', student_info[1])\n",
        "    print('*전화번호:', student_info[2])\n",
        "    print(\"************\")\n",
        "\n",
        "student_info = ['현아', '01', '010-2222-2222']\n",
        "\n",
        "my_student_info_list(student_info)\n",
        "\n",
        "# my_student_info_list(['철수','02','010-3333-3333'])\n",
        "# 물론 철수처럼 리스트를 변수에 넣은 후에 이것을 함수의 인자로 넣지 않고 리스트를 바로 인자로 지정할 수도 있음."
      ],
      "execution_count": 22,
      "outputs": [
        {
          "output_type": "stream",
          "text": [
            "************\n",
            "*학생이름: 현아\n",
            "*학급번호: 01\n",
            "*전화번호: 010-2222-2222\n",
            "************\n",
            "************\n",
            "*학생이름: 철수\n",
            "*학급번호: 02\n",
            "*전화번호: 010-3333-3333\n",
            "************\n"
          ],
          "name": "stdout"
        }
      ]
    },
    {
      "cell_type": "code",
      "metadata": {
        "colab": {
          "base_uri": "https://localhost:8080/"
        },
        "id": "ToAnjc2t1L7v",
        "outputId": "73256a3b-23c4-4e85-e2a8-1fe0d32e6c3f"
      },
      "source": [
        "a = 5 #전역변수\n",
        "\n",
        "def func1():\n",
        "    a = 1 #지역변수\n",
        "    print(\"[func1]지역변수 a=\", a)\n",
        "def func2():\n",
        "    a = 2 #지역변수, func2()에서만 사용\n",
        "    print('[func2]지역변수 a=', a)\n",
        "def func3():\n",
        "    print(\"[func3]지역변수 a=\", a)\n",
        "def func4():\n",
        "    global a #함수 내에서 전역변수 변경을 위해 선언\n",
        "    a = 4 #전역변수의 값 변경\n",
        "    print('[func4]전역변수 a=', a)\n",
        "\n",
        "func1() #지역변수 a = 1로 설정해줌\n",
        "func2() #지역변수 a = 2로 설정해줌\n",
        "func3() #지역변수를 정의하지 않고 출력\n",
        "func4() #전역변수의 값 변경 후 젼역변수 출력\n",
        "print('전역변수 a=', a) # 전역변수 출력"
      ],
      "execution_count": 35,
      "outputs": [
        {
          "output_type": "stream",
          "text": [
            "[func1]지역변수 a= 1\n",
            "[func2]지역변수 a= 2\n",
            "[func3]지역변수 a= 5\n",
            "[func4]전역변수 a= 4\n",
            "전역변수 a= 4\n"
          ],
          "name": "stdout"
        }
      ]
    },
    {
      "cell_type": "code",
      "metadata": {
        "colab": {
          "base_uri": "https://localhost:8080/"
        },
        "id": "bgJ4_D4V4yze",
        "outputId": "a79f51b5-b86d-4ff7-8390-87b9b68c29e8"
      },
      "source": [
        "#람다(lambda)함수\n",
        "#람다함수는 lambda 인자 : 인자 활용 수행코드\n",
        "#인자는 ,(콤마)로 구분해 여러 개를 사용할 수 있음\n",
        "#람다함수를 사용할 때는 람다함수 전체를 소괄호로 감싸고 그 다음에 별도의 소괄호에 인자를 씀\n",
        "#(lambda 인자 : 인자활용수행코드)(인자)\n",
        "(lambda x : x ** 2)(3)"
      ],
      "execution_count": 36,
      "outputs": [
        {
          "output_type": "execute_result",
          "data": {
            "text/plain": [
              "9"
            ]
          },
          "metadata": {
            "tags": []
          },
          "execution_count": 36
        }
      ]
    },
    {
      "cell_type": "code",
      "metadata": {
        "colab": {
          "base_uri": "https://localhost:8080/"
        },
        "id": "81cD5-dh6V-z",
        "outputId": "7f138483-8227-42d4-a8cb-c78ca621da1f"
      },
      "source": [
        "#람다함수를 변수에 할당한 후에 인자를 입력해서 호출할 수도 있음.\n",
        "mySquare = lambda x : x ** 2\n",
        "mySquare(3)"
      ],
      "execution_count": 37,
      "outputs": [
        {
          "output_type": "execute_result",
          "data": {
            "text/plain": [
              "9"
            ]
          },
          "metadata": {
            "tags": []
          },
          "execution_count": 37
        }
      ]
    },
    {
      "cell_type": "code",
      "metadata": {
        "colab": {
          "base_uri": "https://localhost:8080/"
        },
        "id": "V2I0neZx6jkm",
        "outputId": "b26e1d5a-812a-43c0-c814-634942db8374"
      },
      "source": [
        "#여러 개의 인자를 입력받아 연산 결과를 반환하는 람다함수\n",
        "mySimpleFunc = lambda x,y,z : 2*x + 3*y + z\n",
        "mySimpleFunc(1,2,3)"
      ],
      "execution_count": 38,
      "outputs": [
        {
          "output_type": "execute_result",
          "data": {
            "text/plain": [
              "11"
            ]
          },
          "metadata": {
            "tags": []
          },
          "execution_count": 38
        }
      ]
    },
    {
      "cell_type": "code",
      "metadata": {
        "colab": {
          "base_uri": "https://localhost:8080/"
        },
        "id": "V_nYBZpO6yOq",
        "outputId": "85d7745d-16d5-47f8-9fd6-07f22e0585b6"
      },
      "source": [
        "#절대값을 구하는 함수 abs\n",
        "abs(-10)"
      ],
      "execution_count": 39,
      "outputs": [
        {
          "output_type": "execute_result",
          "data": {
            "text/plain": [
              "10"
            ]
          },
          "metadata": {
            "tags": []
          },
          "execution_count": 39
        }
      ]
    },
    {
      "cell_type": "code",
      "metadata": {
        "colab": {
          "base_uri": "https://localhost:8080/"
        },
        "id": "aOLvo7ZM7jMZ",
        "outputId": "716acf2e-5a2c-4937-f07f-a16b96486981"
      },
      "source": [
        "#전체합을 구하는 함수 sum\n",
        "#sum()함수는 리스트, 튜플, 세트 전부 적용할 수 있다.\n",
        "sumList = [1,2,3,4,5,5,5,3,2]\n",
        "sum(sumList)\n",
        "sumTuple = 1,2,3,4,5,5\n",
        "sum(sumTuple)\n",
        "sumSet = {1,2,3,4,5,5}\n",
        "sum(sumSet)"
      ],
      "execution_count": 43,
      "outputs": [
        {
          "output_type": "execute_result",
          "data": {
            "text/plain": [
              "15"
            ]
          },
          "metadata": {
            "tags": []
          },
          "execution_count": 43
        }
      ]
    },
    {
      "cell_type": "code",
      "metadata": {
        "colab": {
          "base_uri": "https://localhost:8080/"
        },
        "id": "7sGOrTn67yBR",
        "outputId": "41ed78e2-c9c3-411f-8228-a2feb4eae0af"
      },
      "source": [
        "#총점과 평균점 구하기\n",
        "scores = [90,80,85,95]\n",
        "\n",
        "score_sum = 0\n",
        "each_subject = 0\n",
        "for score in scores:\n",
        "    score_sum += score\n",
        "    each_subject += 1\n",
        "\n",
        "aver = score_sum / each_subject\n",
        "\n",
        "print('총점:{0}점, 평균:{1}점'.format(score_sum, aver))"
      ],
      "execution_count": 45,
      "outputs": [
        {
          "output_type": "stream",
          "text": [
            "총점:350점, 평균:87.5점\n"
          ],
          "name": "stdout"
        }
      ]
    },
    {
      "cell_type": "code",
      "metadata": {
        "colab": {
          "base_uri": "https://localhost:8080/"
        },
        "id": "kPINUBAE8935",
        "outputId": "171f3386-202f-4952-fdcf-640e2a54b126"
      },
      "source": [
        "#sum과 len을 사용해서 총점과 평균점 구하기\n",
        "print(\"총점:{0}점, 평균:{1}점\".format(sum(scores), sum(scores)/len(scores)))"
      ],
      "execution_count": 46,
      "outputs": [
        {
          "output_type": "stream",
          "text": [
            "총점:350점, 평균:87.5점\n"
          ],
          "name": "stdout"
        }
      ]
    },
    {
      "cell_type": "code",
      "metadata": {
        "id": "29Z3F--M9dJe"
      },
      "source": [
        ""
      ],
      "execution_count": null,
      "outputs": []
    }
  ]
}