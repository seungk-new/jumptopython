{
  "nbformat": 4,
  "nbformat_minor": 0,
  "metadata": {
    "colab": {
      "name": "listetc.ipynb",
      "provenance": [],
      "collapsed_sections": []
    },
    "kernelspec": {
      "name": "python3",
      "display_name": "Python 3"
    },
    "language_info": {
      "name": "python"
    }
  },
  "cells": [
    {
      "cell_type": "code",
      "metadata": {
        "id": "9rzUFq_qFvcR"
      },
      "source": [
        ""
      ],
      "execution_count": null,
      "outputs": []
    },
    {
      "cell_type": "markdown",
      "metadata": {
        "id": "3ewUSUcoFwSC"
      },
      "source": [
        "# 자료형"
      ]
    },
    {
      "cell_type": "code",
      "metadata": {
        "id": "Dn-abhNQHGLJ"
      },
      "source": [
        "list_num = [1, 2, 3, 4, 5]\n",
        "list_fruit = ['Apple', 'Orange']\n"
      ],
      "execution_count": null,
      "outputs": []
    },
    {
      "cell_type": "code",
      "metadata": {
        "id": "zcm-6oAUHTm6"
      },
      "source": [
        "Tuple_num = (1, 2, 3, 4, 5)"
      ],
      "execution_count": null,
      "outputs": []
    },
    {
      "cell_type": "markdown",
      "metadata": {
        "id": "uREOKKGJISdM"
      },
      "source": [
        "* 딕셔너리는 키와 벨류, 세트집합도 있음\n"
      ]
    },
    {
      "cell_type": "markdown",
      "metadata": {
        "id": "BsA68FEPI2hL"
      },
      "source": [
        "* 리스트, 튜플은 순서가 있다.\n",
        "* 딕셔너리는 순서가 없고 key로 value값을 찾는다."
      ]
    },
    {
      "cell_type": "markdown",
      "metadata": {
        "id": "aQlhh0hGNWFv"
      },
      "source": [
        "## 리스트 만들기"
      ]
    },
    {
      "cell_type": "code",
      "metadata": {
        "colab": {
          "base_uri": "https://localhost:8080/"
        },
        "id": "Xn-tvjJXNXsi",
        "outputId": "d275ef66-2065-4af0-d9c8-05a36c1f1aef"
      },
      "source": [
        "# 1번 학생의 국어, 영어, 수학, 과학 점수가 각각 90, 95, 85, 80\n",
        "student1 = [90, 95, 85, 80]\n",
        "type(student1)"
      ],
      "execution_count": null,
      "outputs": [
        {
          "output_type": "execute_result",
          "data": {
            "text/plain": [
              "list"
            ]
          },
          "metadata": {
            "tags": []
          },
          "execution_count": 8
        }
      ]
    },
    {
      "cell_type": "code",
      "metadata": {
        "colab": {
          "base_uri": "https://localhost:8080/"
        },
        "id": "R9Pz2AafNjYl",
        "outputId": "f24b780d-ec32-47e0-87a3-1b89348cd09e"
      },
      "source": [
        "student1[3]"
      ],
      "execution_count": null,
      "outputs": [
        {
          "output_type": "execute_result",
          "data": {
            "text/plain": [
              "80"
            ]
          },
          "metadata": {
            "tags": []
          },
          "execution_count": 11
        }
      ]
    },
    {
      "cell_type": "code",
      "metadata": {
        "colab": {
          "base_uri": "https://localhost:8080/"
        },
        "id": "gdKWXt5XNqkq",
        "outputId": "8b75fe1b-5eaf-4971-e0fb-d72c6225412f"
      },
      "source": [
        "student1[0]"
      ],
      "execution_count": null,
      "outputs": [
        {
          "output_type": "execute_result",
          "data": {
            "text/plain": [
              "90"
            ]
          },
          "metadata": {
            "tags": []
          },
          "execution_count": 13
        }
      ]
    },
    {
      "cell_type": "code",
      "metadata": {
        "colab": {
          "base_uri": "https://localhost:8080/"
        },
        "id": "FeZIMuM4XdYI",
        "outputId": "3f462966-40c8-4bc3-a859-5263b0a13109"
      },
      "source": [
        "student1[0] = 22\n",
        "student1[0]"
      ],
      "execution_count": null,
      "outputs": [
        {
          "output_type": "execute_result",
          "data": {
            "text/plain": [
              "22"
            ]
          },
          "metadata": {
            "tags": []
          },
          "execution_count": 25
        }
      ]
    },
    {
      "cell_type": "code",
      "metadata": {
        "colab": {
          "base_uri": "https://localhost:8080/"
        },
        "id": "C2SQMxI9XhcY",
        "outputId": "2ff3eed4-d0b1-4ffa-c0ba-eae4b8c73048"
      },
      "source": [
        "print(student1)"
      ],
      "execution_count": null,
      "outputs": [
        {
          "output_type": "stream",
          "text": [
            "[22, 95, 85, 80]\n"
          ],
          "name": "stdout"
        }
      ]
    },
    {
      "cell_type": "code",
      "metadata": {
        "colab": {
          "base_uri": "https://localhost:8080/"
        },
        "id": "-0AjnW0SYLZo",
        "outputId": "639389ee-7e9c-4705-b65b-0567048141a9"
      },
      "source": [
        "student1[0:3]"
      ],
      "execution_count": null,
      "outputs": [
        {
          "output_type": "execute_result",
          "data": {
            "text/plain": [
              "[22, 95, 85]"
            ]
          },
          "metadata": {
            "tags": []
          },
          "execution_count": 28
        }
      ]
    },
    {
      "cell_type": "code",
      "metadata": {
        "colab": {
          "base_uri": "https://localhost:8080/"
        },
        "id": "ryA0G8myYQA7",
        "outputId": "b267fcfa-92d3-42f4-a18d-2287640f69aa"
      },
      "source": [
        "student1[-3:-1]"
      ],
      "execution_count": null,
      "outputs": [
        {
          "output_type": "execute_result",
          "data": {
            "text/plain": [
              "[95, 85]"
            ]
          },
          "metadata": {
            "tags": []
          },
          "execution_count": 30
        }
      ]
    },
    {
      "cell_type": "code",
      "metadata": {
        "colab": {
          "base_uri": "https://localhost:8080/"
        },
        "id": "rhCI5cmmYWqY",
        "outputId": "f2c9f9c5-253c-4d9c-c1c9-17fd091c9e35"
      },
      "source": [
        "s = 0\n",
        "for i in student1:\n",
        "    s += i\n",
        "print(s/len(student1))"
      ],
      "execution_count": null,
      "outputs": [
        {
          "output_type": "stream",
          "text": [
            "70.5\n"
          ],
          "name": "stdout"
        }
      ]
    },
    {
      "cell_type": "code",
      "metadata": {
        "colab": {
          "base_uri": "https://localhost:8080/",
          "height": 35
        },
        "id": "EaYU5gAGYafq",
        "outputId": "247d60a9-282c-4fe5-ab5b-54327e56df15"
      },
      "source": [
        "myFriends = ['James', 'Robert', 'Lisa', 'Mary']\n",
        "myFriends[-3]"
      ],
      "execution_count": null,
      "outputs": [
        {
          "output_type": "execute_result",
          "data": {
            "application/vnd.google.colaboratory.intrinsic+json": {
              "type": "string"
            },
            "text/plain": [
              "'Robert'"
            ]
          },
          "metadata": {
            "tags": []
          },
          "execution_count": 35
        }
      ]
    },
    {
      "cell_type": "code",
      "metadata": {
        "colab": {
          "base_uri": "https://localhost:8080/",
          "height": 35
        },
        "id": "RTAFQ41jbLq4",
        "outputId": "c2d14b9c-9687-4799-d1a9-a6403f19e32a"
      },
      "source": [
        "myFriends[0]"
      ],
      "execution_count": null,
      "outputs": [
        {
          "output_type": "execute_result",
          "data": {
            "application/vnd.google.colaboratory.intrinsic+json": {
              "type": "string"
            },
            "text/plain": [
              "'James'"
            ]
          },
          "metadata": {
            "tags": []
          },
          "execution_count": 36
        }
      ]
    },
    {
      "cell_type": "code",
      "metadata": {
        "colab": {
          "base_uri": "https://localhost:8080/"
        },
        "id": "NRjbgcZcbOdI",
        "outputId": "7dc492b3-2a26-4fcc-83f0-b554f979b800"
      },
      "source": [
        "for i in myFriends:\n",
        "    if len(i) <= 4:\n",
        "        print(True)\n",
        "    else: \n",
        "        print(False)"
      ],
      "execution_count": null,
      "outputs": [
        {
          "output_type": "stream",
          "text": [
            "False\n",
            "False\n",
            "True\n",
            "True\n"
          ],
          "name": "stdout"
        }
      ]
    },
    {
      "cell_type": "code",
      "metadata": {
        "colab": {
          "base_uri": "https://localhost:8080/"
        },
        "id": "mKCP3_vlbebm",
        "outputId": "7265f851-69ef-426a-c88e-49da399a0de3"
      },
      "source": [
        "myList = [\"James\", \"Lisa\", 1, bool(0), bool(1)]\n",
        "\n",
        "for i in myList:\n",
        "    if type(i) == str:\n",
        "        print('ww')\n",
        "    elif type(i) == int:\n",
        "        print('oo')\n",
        "    else:\n",
        "        print(8)"
      ],
      "execution_count": null,
      "outputs": [
        {
          "output_type": "stream",
          "text": [
            "ww\n",
            "ww\n",
            "oo\n",
            "8\n",
            "8\n"
          ],
          "name": "stdout"
        }
      ]
    },
    {
      "cell_type": "code",
      "metadata": {
        "id": "B6-IvsuYcE-3",
        "colab": {
          "base_uri": "https://localhost:8080/"
        },
        "outputId": "4acc23cd-0565-40c7-e1fc-806421e86bfa"
      },
      "source": [
        "list_data = [0, 1, 2, 3, 4, 5, 6, 7, 8, 9]\n",
        "list_data[0:3]"
      ],
      "execution_count": 51,
      "outputs": [
        {
          "output_type": "execute_result",
          "data": {
            "text/plain": [
              "[0, 1, 2]"
            ]
          },
          "metadata": {
            "tags": []
          },
          "execution_count": 51
        }
      ]
    },
    {
      "cell_type": "code",
      "metadata": {
        "colab": {
          "base_uri": "https://localhost:8080/"
        },
        "id": "O0LkybThjDej",
        "outputId": "a2f8194b-c2a5-45cd-93da-80ef0e0cffb1"
      },
      "source": [
        "list_data[:2]"
      ],
      "execution_count": 52,
      "outputs": [
        {
          "output_type": "execute_result",
          "data": {
            "text/plain": [
              "[0, 1]"
            ]
          },
          "metadata": {
            "tags": []
          },
          "execution_count": 52
        }
      ]
    },
    {
      "cell_type": "markdown",
      "metadata": {
        "id": "sBZRU85UkGe-"
      },
      "source": [
        "[x::y]하면 x인덱스부터 시작해서 y씩 건너띄고 간다는 얘기."
      ]
    },
    {
      "cell_type": "code",
      "metadata": {
        "colab": {
          "base_uri": "https://localhost:8080/"
        },
        "id": "nLZRgErbj1HV",
        "outputId": "17d49499-b38d-4f7d-d70e-5d96b31f5cf3"
      },
      "source": [
        "list_data[::2]"
      ],
      "execution_count": 56,
      "outputs": [
        {
          "output_type": "execute_result",
          "data": {
            "text/plain": [
              "[0, 2, 4, 6, 8]"
            ]
          },
          "metadata": {
            "tags": []
          },
          "execution_count": 56
        }
      ]
    },
    {
      "cell_type": "markdown",
      "metadata": {
        "id": "L-2XozECkhcT"
      },
      "source": [
        "[x::y]할 때 y가 (-)인덱스이면 y에서 시작해서 x씩 건너뜀."
      ]
    },
    {
      "cell_type": "code",
      "metadata": {
        "colab": {
          "base_uri": "https://localhost:8080/"
        },
        "id": "MP0d63Qvj2nh",
        "outputId": "3b239476-8251-4a98-e00f-92e25d6c591c"
      },
      "source": [
        "list_data[2::-1]"
      ],
      "execution_count": 58,
      "outputs": [
        {
          "output_type": "execute_result",
          "data": {
            "text/plain": [
              "[2, 1, 0]"
            ]
          },
          "metadata": {
            "tags": []
          },
          "execution_count": 58
        }
      ]
    },
    {
      "cell_type": "code",
      "metadata": {
        "colab": {
          "base_uri": "https://localhost:8080/"
        },
        "id": "8DJUcg9VkavD",
        "outputId": "19910533-d9b0-4a55-d4d7-4d13661f050b"
      },
      "source": [
        "list_data = [0, 1, 2, 3, 4, 5, 6, 7, 8, 9]\n",
        "del list_data[6]\n",
        "print(list_data)"
      ],
      "execution_count": 64,
      "outputs": [
        {
          "output_type": "stream",
          "text": [
            "[0, 1, 2, 3, 4, 5, 7, 8, 9]\n"
          ],
          "name": "stdout"
        }
      ]
    },
    {
      "cell_type": "markdown",
      "metadata": {
        "id": "wO_vT2z_lSla"
      },
      "source": [
        "데이타 in list 하면 해당 데이타가 리스트 안에 있느냐를 True False로 반환해줌"
      ]
    },
    {
      "cell_type": "code",
      "metadata": {
        "colab": {
          "base_uri": "https://localhost:8080/"
        },
        "id": "RTtL-Afckxod",
        "outputId": "ba22497a-a44b-4da9-9412-addb4cf15ff9"
      },
      "source": [
        "print(5 in list_data)"
      ],
      "execution_count": 66,
      "outputs": [
        {
          "output_type": "stream",
          "text": [
            "True\n"
          ],
          "name": "stdout"
        }
      ]
    },
    {
      "cell_type": "markdown",
      "metadata": {
        "id": "q274fCjWlgGl"
      },
      "source": [
        "* 파이썬에서는 데이터 타입(자료형)별로 이용할 수 있는 다양한 함수를 제공하는데 이를 메서드라고 함.\n",
        "\n",
        "* 리스트.메서드()형식으로 리스트 메서드 사용가능\n",
        "\n",
        "* 데이터를 변수에 할당했다면 `데이터명.메서드()`로도 사용가능"
      ]
    },
    {
      "cell_type": "markdown",
      "metadata": {
        "id": "GroeTW2qmO2c"
      },
      "source": [
        ""
      ]
    },
    {
      "cell_type": "code",
      "metadata": {
        "colab": {
          "base_uri": "https://localhost:8080/"
        },
        "id": "Z7qrrjHmmaI7",
        "outputId": "18bb5ba7-04c1-47ce-db26-99bc3ab8b7a5"
      },
      "source": [
        "myFriends = ['Lisa', 'Thomas', 'jay', 'key']\n",
        "myFriends.append('sun')\n",
        "print(myFriends)"
      ],
      "execution_count": 70,
      "outputs": [
        {
          "output_type": "stream",
          "text": [
            "['Lisa', 'Thomas', 'jay', 'key', 'sun']\n"
          ],
          "name": "stdout"
        }
      ]
    },
    {
      "cell_type": "code",
      "metadata": {
        "id": "82usoV53mw1n"
      },
      "source": [
        "myFriends.insert(1, 'paul')\n",
        "# [1]위치에 paul삽입하라는 뜻"
      ],
      "execution_count": 73,
      "outputs": []
    },
    {
      "cell_type": "code",
      "metadata": {
        "colab": {
          "base_uri": "https://localhost:8080/"
        },
        "id": "PbM8V0t3m_O4",
        "outputId": "a103df4a-0046-43a4-dad3-824ddb0d6ff9"
      },
      "source": [
        "print(myFriends)"
      ],
      "execution_count": 72,
      "outputs": [
        {
          "output_type": "stream",
          "text": [
            "['Lisa', 'paul', 'Thomas', 'jay', 'key', 'sun']\n"
          ],
          "name": "stdout"
        }
      ]
    },
    {
      "cell_type": "code",
      "metadata": {
        "colab": {
          "base_uri": "https://localhost:8080/"
        },
        "id": "5D6s9DC3nBav",
        "outputId": "76405b87-fd85-4f31-9681-a122f0d1d0bc"
      },
      "source": [
        "myFriends.extend(['Luna', 'Betty'])\n",
        "print(myFriends)\n",
        "# extend는 하나의 리스트를 확장하는 기능인데, 확장하고자 하는 내용을 리스트 아규먼트로 넣어서 결과에 반환한다."
      ],
      "execution_count": 75,
      "outputs": [
        {
          "output_type": "stream",
          "text": [
            "['Lisa', 'paul', 'paul', 'Thomas', 'jay', 'key', 'sun', 'Luna', 'Betty']\n"
          ],
          "name": "stdout"
        }
      ]
    },
    {
      "cell_type": "code",
      "metadata": {
        "colab": {
          "base_uri": "https://localhost:8080/"
        },
        "id": "9Q7UJ9uzng9X",
        "outputId": "4ac5103f-ec82-4286-f251-f0875a1bdc0b"
      },
      "source": [
        "myFriends.extend(['d','a','w','e'])\n",
        "print(myFriends)"
      ],
      "execution_count": 76,
      "outputs": [
        {
          "output_type": "stream",
          "text": [
            "['Lisa', 'paul', 'paul', 'Thomas', 'jay', 'key', 'sun', 'Luna', 'Betty', 'd', 'a', 'w', 'e']\n"
          ],
          "name": "stdout"
        }
      ]
    },
    {
      "cell_type": "code",
      "metadata": {
        "id": "uaVQt5UCoCGw"
      },
      "source": [
        "del myFriends[5]"
      ],
      "execution_count": 77,
      "outputs": []
    },
    {
      "cell_type": "code",
      "metadata": {
        "colab": {
          "base_uri": "https://localhost:8080/"
        },
        "id": "iRuZNf4QoUv6",
        "outputId": "2d1ac1c3-e7f9-459d-bdea-98b98545b348"
      },
      "source": [
        "print(myFriends)"
      ],
      "execution_count": 79,
      "outputs": [
        {
          "output_type": "stream",
          "text": [
            "['Lisa', 'paul', 'paul', 'Thomas', 'jay', 'sun', 'Luna', 'Betty', 'd', 'a', 'w', 'e']\n"
          ],
          "name": "stdout"
        }
      ]
    },
    {
      "cell_type": "code",
      "metadata": {
        "colab": {
          "base_uri": "https://localhost:8080/"
        },
        "id": "_-1oBEZ-oWkQ",
        "outputId": "60a45d70-c6d2-440a-9d5a-37a17e18374b"
      },
      "source": [
        "print('kk' in myFriends)"
      ],
      "execution_count": 80,
      "outputs": [
        {
          "output_type": "stream",
          "text": [
            "False\n"
          ],
          "name": "stdout"
        }
      ]
    },
    {
      "cell_type": "code",
      "metadata": {
        "colab": {
          "base_uri": "https://localhost:8080/"
        },
        "id": "_SvvBUYrooz1",
        "outputId": "5a35b21f-72bb-4a46-bdcb-86d8e424f38e"
      },
      "source": [
        "myFriends[3:]"
      ],
      "execution_count": 81,
      "outputs": [
        {
          "output_type": "execute_result",
          "data": {
            "text/plain": [
              "['Thomas', 'jay', 'sun', 'Luna', 'Betty', 'd', 'a', 'w', 'e']"
            ]
          },
          "metadata": {
            "tags": []
          },
          "execution_count": 81
        }
      ]
    },
    {
      "cell_type": "code",
      "metadata": {
        "colab": {
          "base_uri": "https://localhost:8080/"
        },
        "id": "ZViX75o8pVz9",
        "outputId": "bad8eb4d-0153-4ef7-b6e9-3d13bd5f9e6a"
      },
      "source": [
        "myFriends[3:len(myFriends)]"
      ],
      "execution_count": 85,
      "outputs": [
        {
          "output_type": "execute_result",
          "data": {
            "text/plain": [
              "['Thomas', 'jay', 'sun', 'Luna', 'Betty', 'd', 'a', 'w', 'e']"
            ]
          },
          "metadata": {
            "tags": []
          },
          "execution_count": 85
        }
      ]
    },
    {
      "cell_type": "code",
      "metadata": {
        "colab": {
          "base_uri": "https://localhost:8080/"
        },
        "id": "K-KzR9tWpexx",
        "outputId": "607012fb-4540-4a6f-a52b-222800845003"
      },
      "source": [
        "ll = [1, 2, 3, 4]\n",
        "print(len(ll))"
      ],
      "execution_count": 86,
      "outputs": [
        {
          "output_type": "stream",
          "text": [
            "4\n"
          ],
          "name": "stdout"
        }
      ]
    },
    {
      "cell_type": "code",
      "metadata": {
        "id": "GOBompFUp0aK"
      },
      "source": [
        "ll.insert(1, 99)"
      ],
      "execution_count": 87,
      "outputs": []
    },
    {
      "cell_type": "code",
      "metadata": {
        "colab": {
          "base_uri": "https://localhost:8080/"
        },
        "id": "05UnM2oBqKWl",
        "outputId": "8c530b37-3f37-4bd2-d60e-b7604b34fd4f"
      },
      "source": [
        "print(ll)"
      ],
      "execution_count": 88,
      "outputs": [
        {
          "output_type": "stream",
          "text": [
            "[1, 99, 2, 3, 4]\n"
          ],
          "name": "stdout"
        }
      ]
    },
    {
      "cell_type": "code",
      "metadata": {
        "id": "M8ZtuFp0qLaL"
      },
      "source": [
        "ll.insert(0, 0)"
      ],
      "execution_count": 95,
      "outputs": []
    },
    {
      "cell_type": "code",
      "metadata": {
        "colab": {
          "base_uri": "https://localhost:8080/"
        },
        "id": "392M9nOHqYD4",
        "outputId": "c9f8fd38-8292-4d23-c376-df12b96ab10e"
      },
      "source": [
        "print()"
      ],
      "execution_count": 96,
      "outputs": [
        {
          "output_type": "stream",
          "text": [
            "[0, 99, 1, 99, 2, 3, 99, 0, 4]\n"
          ],
          "name": "stdout"
        }
      ]
    },
    {
      "cell_type": "code",
      "metadata": {
        "id": "Eqcfa-GXqZfR"
      },
      "source": [
        "ll.insert(22, 888)"
      ],
      "execution_count": 97,
      "outputs": []
    },
    {
      "cell_type": "code",
      "metadata": {
        "colab": {
          "base_uri": "https://localhost:8080/"
        },
        "id": "aD3Yyt3Fq8JF",
        "outputId": "9feb20a4-6e2a-4af3-f849-abfa24bad53f"
      },
      "source": [
        "print(ll)"
      ],
      "execution_count": 98,
      "outputs": [
        {
          "output_type": "stream",
          "text": [
            "[0, 99, 1, 99, 2, 3, 99, 0, 4, 888]\n"
          ],
          "name": "stdout"
        }
      ]
    },
    {
      "cell_type": "code",
      "metadata": {
        "id": "s39ap7lAq9QL"
      },
      "source": [
        "ll.insert(99,'e')"
      ],
      "execution_count": 99,
      "outputs": []
    },
    {
      "cell_type": "code",
      "metadata": {
        "colab": {
          "base_uri": "https://localhost:8080/"
        },
        "id": "yOpl_1kXrr3N",
        "outputId": "ee3a35a9-27bd-469f-be67-f8a67e1b99b0"
      },
      "source": [
        "print(ll)"
      ],
      "execution_count": 100,
      "outputs": [
        {
          "output_type": "stream",
          "text": [
            "[0, 99, 1, 99, 2, 3, 99, 0, 4, 888, 'e']\n"
          ],
          "name": "stdout"
        }
      ]
    },
    {
      "cell_type": "markdown",
      "metadata": {
        "id": "ipktNG6ZwIDr"
      },
      "source": [
        "* 튜플은 한 번 입력(혹은 생성) 하면 그 8이후에는 항목을 변경할 수 없음.\n",
        "* 리스트는 메모리 공간을 항상 가변적으로 갖고 있어야 하지만 튜플은 그렇지 않기에 데이터 처리 속도가 더 빠르다."
      ]
    },
    {
      "cell_type": "code",
      "metadata": {
        "colab": {
          "base_uri": "https://localhost:8080/"
        },
        "id": "Ax_Yy8rswM-k",
        "outputId": "4dd01017-b40e-479a-e72f-32b337f96625"
      },
      "source": [
        "ll.append(0)\n",
        "print(ll)"
      ],
      "execution_count": 104,
      "outputs": [
        {
          "output_type": "stream",
          "text": [
            "[0, 0, 1, 2, 3, 4, 99, 99, 99, 888, 'e', 0, 0]\n"
          ],
          "name": "stdout"
        }
      ]
    },
    {
      "cell_type": "code",
      "metadata": {
        "id": "J_RvzW7zwcqj"
      },
      "source": [
        "ll.extend([1, 2, 3])"
      ],
      "execution_count": 105,
      "outputs": []
    },
    {
      "cell_type": "code",
      "metadata": {
        "colab": {
          "base_uri": "https://localhost:8080/"
        },
        "id": "uLQZO4e7xFQi",
        "outputId": "8cbddaba-ea62-405f-df01-a45ccfb32ec4"
      },
      "source": [
        "print(ll)"
      ],
      "execution_count": 106,
      "outputs": [
        {
          "output_type": "stream",
          "text": [
            "[0, 0, 1, 2, 3, 4, 99, 99, 99, 888, 'e', 0, 0, 1, 2, 3]\n"
          ],
          "name": "stdout"
        }
      ]
    },
    {
      "cell_type": "code",
      "metadata": {
        "colab": {
          "base_uri": "https://localhost:8080/"
        },
        "id": "ffInqQ9hxGSa",
        "outputId": "814bc3fd-fb73-417e-f2d8-01b80f90b75c"
      },
      "source": [
        "# 튜플은 ()를 사용하지만 ()를 사용하지 않아도 튜플로 인식되기에 안 써도 괜찮다.\n",
        "tu = 1, 2, 3, 4\n",
        "type(tu)"
      ],
      "execution_count": 107,
      "outputs": [
        {
          "output_type": "execute_result",
          "data": {
            "text/plain": [
              "tuple"
            ]
          },
          "metadata": {
            "tags": []
          },
          "execution_count": 107
        }
      ]
    },
    {
      "cell_type": "code",
      "metadata": {
        "colab": {
          "base_uri": "https://localhost:8080/"
        },
        "id": "rjbIImfDxdrc",
        "outputId": "206d2122-012a-4a53-e69f-dde31eef83bf"
      },
      "source": [
        "type(tuple)"
      ],
      "execution_count": 108,
      "outputs": [
        {
          "output_type": "execute_result",
          "data": {
            "text/plain": [
              "type"
            ]
          },
          "metadata": {
            "tags": []
          },
          "execution_count": 108
        }
      ]
    },
    {
      "cell_type": "code",
      "metadata": {
        "colab": {
          "base_uri": "https://localhost:8080/"
        },
        "id": "AaBGXB5BxusV",
        "outputId": "d095c2d8-95d7-46d2-9277-263293a2f1c6"
      },
      "source": [
        "type((1, 2, 3))"
      ],
      "execution_count": 110,
      "outputs": [
        {
          "output_type": "execute_result",
          "data": {
            "text/plain": [
              "tuple"
            ]
          },
          "metadata": {
            "tags": []
          },
          "execution_count": 110
        }
      ]
    },
    {
      "cell_type": "code",
      "metadata": {
        "colab": {
          "base_uri": "https://localhost:8080/"
        },
        "id": "I1iKUD6vxwa6",
        "outputId": "e5baff0e-27f2-4e9e-b80f-54dd8e806566"
      },
      "source": [
        "tuple = (1, 2, 3, 4)\n",
        "tuple[1]"
      ],
      "execution_count": 111,
      "outputs": [
        {
          "output_type": "execute_result",
          "data": {
            "text/plain": [
              "2"
            ]
          },
          "metadata": {
            "tags": []
          },
          "execution_count": 111
        }
      ]
    },
    {
      "cell_type": "code",
      "metadata": {
        "colab": {
          "base_uri": "https://localhost:8080/"
        },
        "id": "5z9ed2ivyDDk",
        "outputId": "51a5fe0a-553d-4cd0-f666-e0a4962759f6"
      },
      "source": [
        "Tuple = 1, 2, 3, 4\n",
        "Tuple[1]"
      ],
      "execution_count": 112,
      "outputs": [
        {
          "output_type": "execute_result",
          "data": {
            "text/plain": [
              "2"
            ]
          },
          "metadata": {
            "tags": []
          },
          "execution_count": 112
        }
      ]
    },
    {
      "cell_type": "markdown",
      "metadata": {
        "id": "fNNunD6QyP3c"
      },
      "source": [
        "* 항목이 하나만 있는 튜플을 만드는 방법??\n",
        "    * tuple = 1, \n",
        "    * tuple = (1,)\n",
        "\n",
        "* 데이터가 픽스되어 있다 하면 튜플을 쓰고 아니면 리스트를 쓰는 것이 좋다."
      ]
    },
    {
      "cell_type": "code",
      "metadata": {
        "colab": {
          "base_uri": "https://localhost:8080/",
          "height": 215
        },
        "id": "tgefmGlbyac4",
        "outputId": "f08d4295-38d9-422d-d2f0-965bd85b6372"
      },
      "source": [
        "myTuple = (1,2,3,4)\n",
        "myTuple[1] = 5\n",
        "\n",
        "# 튜플은 항목을 바꿀 수 없기에 바꾸려고 하면 에러가 난다."
      ],
      "execution_count": 116,
      "outputs": [
        {
          "output_type": "error",
          "ename": "TypeError",
          "evalue": "ignored",
          "traceback": [
            "\u001b[0;31m---------------------------------------------------------------------------\u001b[0m",
            "\u001b[0;31mTypeError\u001b[0m                                 Traceback (most recent call last)",
            "\u001b[0;32m<ipython-input-116-a18e93343f6c>\u001b[0m in \u001b[0;36m<module>\u001b[0;34m()\u001b[0m\n\u001b[1;32m      1\u001b[0m \u001b[0mmyTuple\u001b[0m \u001b[0;34m=\u001b[0m \u001b[0;34m(\u001b[0m\u001b[0;36m1\u001b[0m\u001b[0;34m,\u001b[0m\u001b[0;36m2\u001b[0m\u001b[0;34m,\u001b[0m\u001b[0;36m3\u001b[0m\u001b[0;34m,\u001b[0m\u001b[0;36m4\u001b[0m\u001b[0;34m)\u001b[0m\u001b[0;34m\u001b[0m\u001b[0;34m\u001b[0m\u001b[0m\n\u001b[0;32m----> 2\u001b[0;31m \u001b[0mmyTuple\u001b[0m\u001b[0;34m[\u001b[0m\u001b[0;36m1\u001b[0m\u001b[0;34m]\u001b[0m \u001b[0;34m=\u001b[0m \u001b[0;36m5\u001b[0m\u001b[0;34m\u001b[0m\u001b[0;34m\u001b[0m\u001b[0m\n\u001b[0m\u001b[1;32m      3\u001b[0m \u001b[0;34m\u001b[0m\u001b[0m\n\u001b[1;32m      4\u001b[0m \u001b[0;31m# 튜플은 항목을 바꿀 수 없기에 바꾸려고 하면 에러가 난다.\u001b[0m\u001b[0;34m\u001b[0m\u001b[0;34m\u001b[0m\u001b[0;34m\u001b[0m\u001b[0m\n",
            "\u001b[0;31mTypeError\u001b[0m: 'tuple' object does not support item assignment"
          ]
        }
      ]
    },
    {
      "cell_type": "markdown",
      "metadata": {
        "id": "ai9yEm9_zbgy"
      },
      "source": [
        "index()메서드나 count()메서드는 항목을 변경하지 않아서 튜플에서 사용 가능"
      ]
    },
    {
      "cell_type": "code",
      "metadata": {
        "colab": {
          "base_uri": "https://localhost:8080/"
        },
        "id": "t-JkJQPBzimw",
        "outputId": "b1321dbe-0a24-444b-cd80-ddfb5016edd5"
      },
      "source": [
        "tuple = 1,2,3,4,4,1,3,1\n",
        "tuple.index(4)\n",
        "# index메서드로 몇번째에 해당 항목이 있는지 출력 가능"
      ],
      "execution_count": 144,
      "outputs": [
        {
          "output_type": "execute_result",
          "data": {
            "text/plain": [
              "3"
            ]
          },
          "metadata": {
            "tags": []
          },
          "execution_count": 144
        }
      ]
    },
    {
      "cell_type": "code",
      "metadata": {
        "colab": {
          "base_uri": "https://localhost:8080/"
        },
        "id": "NHXSJHRYzp1l",
        "outputId": "4bc66ff0-2f4c-458f-b628-f0a3d5ad857a"
      },
      "source": [
        "tuple.count(1)"
      ],
      "execution_count": 138,
      "outputs": [
        {
          "output_type": "execute_result",
          "data": {
            "text/plain": [
              "1"
            ]
          },
          "metadata": {
            "tags": []
          },
          "execution_count": 138
        }
      ]
    },
    {
      "cell_type": "code",
      "metadata": {
        "colab": {
          "base_uri": "https://localhost:8080/"
        },
        "id": "HhxH9DmEz_Ds",
        "outputId": "9b34b4c7-a140-4d9c-f9a5-1747322a79e3"
      },
      "source": [
        "ii = (1,1, 2)\n",
        "ii.count(1)"
      ],
      "execution_count": 141,
      "outputs": [
        {
          "output_type": "execute_result",
          "data": {
            "text/plain": [
              "2"
            ]
          },
          "metadata": {
            "tags": []
          },
          "execution_count": 141
        }
      ]
    },
    {
      "cell_type": "markdown",
      "metadata": {
        "id": "IX4Xlpro1AlN"
      },
      "source": [
        "* 딕셔너리는 key와 value로 구성됨.\n",
        "* 리스트나 튜플은 인덱스를 이용해 항목을 다뤘지만 딕셔너리는 인덱스 대신 key를 사용함."
      ]
    },
    {
      "cell_type": "code",
      "metadata": {
        "colab": {
          "base_uri": "https://localhost:8080/"
        },
        "id": "ZktN_rbp2GyI",
        "outputId": "ffc4b9f8-9e2c-43e6-fdef-3f296548535c"
      },
      "source": [
        "dict_name = {'apple':'fruit', 'james':'person'}\n",
        "dict_name.values()"
      ],
      "execution_count": 161,
      "outputs": [
        {
          "output_type": "execute_result",
          "data": {
            "text/plain": [
              "dict_values(['fruit', 'person'])"
            ]
          },
          "metadata": {
            "tags": []
          },
          "execution_count": 161
        }
      ]
    },
    {
      "cell_type": "code",
      "metadata": {
        "colab": {
          "base_uri": "https://localhost:8080/"
        },
        "id": "NY7i768W2GV-",
        "outputId": "99b40601-4d04-4b0d-e8be-17a642280549"
      },
      "source": [
        "type(dict_name)"
      ],
      "execution_count": 162,
      "outputs": [
        {
          "output_type": "execute_result",
          "data": {
            "text/plain": [
              "dict"
            ]
          },
          "metadata": {
            "tags": []
          },
          "execution_count": 162
        }
      ]
    },
    {
      "cell_type": "code",
      "metadata": {
        "colab": {
          "base_uri": "https://localhost:8080/"
        },
        "id": "GKTxiAKf3GaN",
        "outputId": "f86a1b7b-9c98-4d5d-b4a3-2e923f5c706a"
      },
      "source": [
        "print(dict_name['apple'])"
      ],
      "execution_count": 163,
      "outputs": [
        {
          "output_type": "stream",
          "text": [
            "fruit\n"
          ],
          "name": "stdout"
        }
      ]
    },
    {
      "cell_type": "code",
      "metadata": {
        "colab": {
          "base_uri": "https://localhost:8080/"
        },
        "id": "ZAHCQQ5t3K7E",
        "outputId": "77b0b418-cfee-4396-894e-86d28a792e5b"
      },
      "source": [
        "print(dict_name['james'])"
      ],
      "execution_count": 165,
      "outputs": [
        {
          "output_type": "stream",
          "text": [
            "person\n"
          ],
          "name": "stdout"
        }
      ]
    },
    {
      "cell_type": "code",
      "metadata": {
        "colab": {
          "base_uri": "https://localhost:8080/"
        },
        "id": "w_ILN5G-3OOG",
        "outputId": "a3487362-b147-4e9f-ffb5-94c5e57c40df"
      },
      "source": [
        "li = [1,2,3,4]\n",
        "li.index(2)"
      ],
      "execution_count": 167,
      "outputs": [
        {
          "output_type": "execute_result",
          "data": {
            "text/plain": [
              "1"
            ]
          },
          "metadata": {
            "tags": []
          },
          "execution_count": 167
        }
      ]
    },
    {
      "cell_type": "code",
      "metadata": {
        "id": "4j3xU0jg3xFY"
      },
      "source": [
        "li.append(['d','w'])"
      ],
      "execution_count": 168,
      "outputs": []
    },
    {
      "cell_type": "code",
      "metadata": {
        "colab": {
          "base_uri": "https://localhost:8080/"
        },
        "id": "1Fvfbp037UxW",
        "outputId": "cea5eefb-a83e-4e0e-aa65-4c364122e366"
      },
      "source": [
        "print(li)"
      ],
      "execution_count": 169,
      "outputs": [
        {
          "output_type": "stream",
          "text": [
            "[1, 2, 3, 4, ['d', 'w']]\n"
          ],
          "name": "stdout"
        }
      ]
    },
    {
      "cell_type": "code",
      "metadata": {
        "id": "kLzE_7sp7VuB"
      },
      "source": [
        "li.extend(['d', 'w'])"
      ],
      "execution_count": 170,
      "outputs": []
    },
    {
      "cell_type": "code",
      "metadata": {
        "colab": {
          "base_uri": "https://localhost:8080/"
        },
        "id": "tjwd5aZL7Zge",
        "outputId": "68b5db37-4765-4389-cbc7-b18e0a66e274"
      },
      "source": [
        "print(li)"
      ],
      "execution_count": 173,
      "outputs": [
        {
          "output_type": "stream",
          "text": [
            "[1, 2, 3, 4, ['d', 'w'], 'd', 'w']\n"
          ],
          "name": "stdout"
        }
      ]
    },
    {
      "cell_type": "code",
      "metadata": {
        "colab": {
          "base_uri": "https://localhost:8080/"
        },
        "id": "xiNZWLdt7aKa",
        "outputId": "c57cbc30-49a9-449a-e3f1-4256d7645877"
      },
      "source": [
        "dict_name = {'서울':'한국','일본':'도쿄','미국':'DC'}\n",
        "dict_name.keys()"
      ],
      "execution_count": 174,
      "outputs": [
        {
          "output_type": "execute_result",
          "data": {
            "text/plain": [
              "dict_keys(['서울', '일본', '미국'])"
            ]
          },
          "metadata": {
            "tags": []
          },
          "execution_count": 174
        }
      ]
    },
    {
      "cell_type": "code",
      "metadata": {
        "colab": {
          "base_uri": "https://localhost:8080/"
        },
        "id": "XuNhMieS8bJ0",
        "outputId": "7f7a59eb-af3b-4dee-a0f6-68e867008269"
      },
      "source": [
        "dict_name.values()"
      ],
      "execution_count": 175,
      "outputs": [
        {
          "output_type": "execute_result",
          "data": {
            "text/plain": [
              "dict_values(['한국', '도쿄', 'DC'])"
            ]
          },
          "metadata": {
            "tags": []
          },
          "execution_count": 175
        }
      ]
    },
    {
      "cell_type": "code",
      "metadata": {
        "colab": {
          "base_uri": "https://localhost:8080/",
          "height": 35
        },
        "id": "H9YOmIQp8dIY",
        "outputId": "5e833c16-521f-4d5f-b001-09831c979559"
      },
      "source": [
        "dict_name['서울']"
      ],
      "execution_count": 179,
      "outputs": [
        {
          "output_type": "execute_result",
          "data": {
            "application/vnd.google.colaboratory.intrinsic+json": {
              "type": "string"
            },
            "text/plain": [
              "'한국'"
            ]
          },
          "metadata": {
            "tags": []
          },
          "execution_count": 179
        }
      ]
    },
    {
      "cell_type": "code",
      "metadata": {
        "colab": {
          "base_uri": "https://localhost:8080/"
        },
        "id": "F8GQf5KY8f5G",
        "outputId": "7d0dddd6-b689-45b7-840b-86c2e0091885"
      },
      "source": [
        "dict_name = {1:10,2:20,3:30,4:40,5:50}\n",
        "print(dict_name)"
      ],
      "execution_count": 180,
      "outputs": [
        {
          "output_type": "stream",
          "text": [
            "{1: 10, 2: 20, 3: 30, 4: 40, 5: 50}\n"
          ],
          "name": "stdout"
        }
      ]
    },
    {
      "cell_type": "code",
      "metadata": {
        "colab": {
          "base_uri": "https://localhost:8080/"
        },
        "id": "J-3hKrDy9gcL",
        "outputId": "3acc6ecd-7a2e-460d-8bd4-b34a0d83cc85"
      },
      "source": [
        "dict_name.keys()"
      ],
      "execution_count": 183,
      "outputs": [
        {
          "output_type": "execute_result",
          "data": {
            "text/plain": [
              "dict_keys([1, 2, 3, 4, 5])"
            ]
          },
          "metadata": {
            "tags": []
          },
          "execution_count": 183
        }
      ]
    },
    {
      "cell_type": "code",
      "metadata": {
        "colab": {
          "base_uri": "https://localhost:8080/"
        },
        "id": "q6XZMjqZ9k3F",
        "outputId": "c25d0e18-3876-47fc-8b44-d421b708b5a8"
      },
      "source": [
        "dict_name[4]"
      ],
      "execution_count": 184,
      "outputs": [
        {
          "output_type": "execute_result",
          "data": {
            "text/plain": [
              "40"
            ]
          },
          "metadata": {
            "tags": []
          },
          "execution_count": 184
        }
      ]
    },
    {
      "cell_type": "code",
      "metadata": {
        "colab": {
          "base_uri": "https://localhost:8080/"
        },
        "id": "CpcRQnMh9vE-",
        "outputId": "69d785d2-4259-4bbc-b948-c0aa06b8da69"
      },
      "source": [
        "dict_name = {\"list_data1\":[11,12,13], \"list_data2\":[21,22,23]}\n",
        "print(dict_name)"
      ],
      "execution_count": 185,
      "outputs": [
        {
          "output_type": "stream",
          "text": [
            "{'list_data1': [11, 12, 13], 'list_data2': [21, 22, 23]}\n"
          ],
          "name": "stdout"
        }
      ]
    },
    {
      "cell_type": "code",
      "metadata": {
        "colab": {
          "base_uri": "https://localhost:8080/"
        },
        "id": "hPYJw5DQ98vY",
        "outputId": "4cf59423-993e-4222-b378-2c0053309ef4"
      },
      "source": [
        "dict_name.keys()"
      ],
      "execution_count": 186,
      "outputs": [
        {
          "output_type": "execute_result",
          "data": {
            "text/plain": [
              "dict_keys(['list_data1', 'list_data2'])"
            ]
          },
          "metadata": {
            "tags": []
          },
          "execution_count": 186
        }
      ]
    },
    {
      "cell_type": "code",
      "metadata": {
        "colab": {
          "base_uri": "https://localhost:8080/"
        },
        "id": "UeKbphuC9_Ls",
        "outputId": "4f443207-759e-45f6-cbae-d3278b038bd0"
      },
      "source": [
        "dict_name[\"list_data2\"]"
      ],
      "execution_count": 187,
      "outputs": [
        {
          "output_type": "execute_result",
          "data": {
            "text/plain": [
              "[21, 22, 23]"
            ]
          },
          "metadata": {
            "tags": []
          },
          "execution_count": 187
        }
      ]
    },
    {
      "cell_type": "markdown",
      "metadata": {
        "id": "1DCyhpyZ-NhF"
      },
      "source": [
        "* key에 사용될 수 있는 데이터 타입은 숫자, 문자열\n",
        "* 그러나, value에 사용될 수 있는 데이터 타입은 숫자, 문자열, 튜플, 리스트, 딕셔너리 등 다양한 데이터를 사용할 수 있음"
      ]
    },
    {
      "cell_type": "code",
      "metadata": {
        "colab": {
          "base_uri": "https://localhost:8080/"
        },
        "id": "00J-zdz0-YdT",
        "outputId": "de006af1-e2c9-4936-a008-b459ce69f547"
      },
      "source": [
        "dict_name = {\"data1\":{'data2':[11,12,13]}, \"data2\":{'data4':[21,22,23]}}\n",
        "print(dict_name)"
      ],
      "execution_count": 189,
      "outputs": [
        {
          "output_type": "stream",
          "text": [
            "{'data1': {'data2': [11, 12, 13]}, 'data2': {'data4': [21, 22, 23]}}\n"
          ],
          "name": "stdout"
        }
      ]
    },
    {
      "cell_type": "code",
      "metadata": {
        "colab": {
          "base_uri": "https://localhost:8080/"
        },
        "id": "m0v-wEmd-nqM",
        "outputId": "66faeb68-6ef2-4af3-bcca-6faa3c91ab7c"
      },
      "source": [
        "dict_name.keys()"
      ],
      "execution_count": 190,
      "outputs": [
        {
          "output_type": "execute_result",
          "data": {
            "text/plain": [
              "dict_keys(['data1', 'data2'])"
            ]
          },
          "metadata": {
            "tags": []
          },
          "execution_count": 190
        }
      ]
    },
    {
      "cell_type": "code",
      "metadata": {
        "colab": {
          "base_uri": "https://localhost:8080/"
        },
        "id": "FifFBYta-vPp",
        "outputId": "5aa828bc-4960-4373-8d34-53960e6fdbe7"
      },
      "source": [
        "dict_name.values()"
      ],
      "execution_count": 191,
      "outputs": [
        {
          "output_type": "execute_result",
          "data": {
            "text/plain": [
              "dict_values([{'data2': [11, 12, 13]}, {'data4': [21, 22, 23]}])"
            ]
          },
          "metadata": {
            "tags": []
          },
          "execution_count": 191
        }
      ]
    },
    {
      "cell_type": "code",
      "metadata": {
        "colab": {
          "base_uri": "https://localhost:8080/"
        },
        "id": "igGo7aqD-xOV",
        "outputId": "1a0b78e2-c6f7-4a63-9842-c30fcde360bf"
      },
      "source": [
        "dict_name['data1']"
      ],
      "execution_count": 193,
      "outputs": [
        {
          "output_type": "execute_result",
          "data": {
            "text/plain": [
              "{'data2': [11, 12, 13]}"
            ]
          },
          "metadata": {
            "tags": []
          },
          "execution_count": 193
        }
      ]
    },
    {
      "cell_type": "code",
      "metadata": {
        "colab": {
          "base_uri": "https://localhost:8080/"
        },
        "id": "5WNW5zPn-zp8",
        "outputId": "961636df-0bdb-4481-c581-7f957d77cbb0"
      },
      "source": [
        "dict_name['data2']"
      ],
      "execution_count": 196,
      "outputs": [
        {
          "output_type": "execute_result",
          "data": {
            "text/plain": [
              "{'data4': [21, 22, 23]}"
            ]
          },
          "metadata": {
            "tags": []
          },
          "execution_count": 196
        }
      ]
    },
    {
      "cell_type": "code",
      "metadata": {
        "id": "SOvSn4Ao-5nZ"
      },
      "source": [
        "dict_name['data2'] = 'data00'"
      ],
      "execution_count": 197,
      "outputs": []
    },
    {
      "cell_type": "code",
      "metadata": {
        "colab": {
          "base_uri": "https://localhost:8080/"
        },
        "id": "ZIv9q1O0_4_4",
        "outputId": "c0f32fba-e240-4f33-9595-008d3c5a93ef"
      },
      "source": [
        "print(dict_name)"
      ],
      "execution_count": 198,
      "outputs": [
        {
          "output_type": "stream",
          "text": [
            "{'data1': {'data2': [11, 12, 13]}, 'data2': 'data00'}\n"
          ],
          "name": "stdout"
        }
      ]
    },
    {
      "cell_type": "code",
      "metadata": {
        "id": "RAq6jl-0_682"
      },
      "source": [
        "del dict_name[\"data1\"]"
      ],
      "execution_count": 200,
      "outputs": []
    },
    {
      "cell_type": "code",
      "metadata": {
        "colab": {
          "base_uri": "https://localhost:8080/"
        },
        "id": "t8ikkh0-AUfn",
        "outputId": "442a0c97-719f-4570-d69d-7a487b9762ce"
      },
      "source": [
        "print(dict_name)"
      ],
      "execution_count": 204,
      "outputs": [
        {
          "output_type": "stream",
          "text": [
            "{'data2': 'data00'}\n"
          ],
          "name": "stdout"
        }
      ]
    },
    {
      "cell_type": "code",
      "metadata": {
        "id": "ztc1IQcWAW1j"
      },
      "source": [
        "oo = {'오렌지':106}\n",
        "dict_name.update(oo)"
      ],
      "execution_count": 216,
      "outputs": []
    },
    {
      "cell_type": "code",
      "metadata": {
        "colab": {
          "base_uri": "https://localhost:8080/"
        },
        "id": "9d_E4fRZAf34",
        "outputId": "459a4565-7738-4418-f5f0-906b621d80d9"
      },
      "source": [
        "print(dict_name)"
      ],
      "execution_count": 217,
      "outputs": [
        {
          "output_type": "stream",
          "text": [
            "{'data2': 'data99', '오렌지': 106}\n"
          ],
          "name": "stdout"
        }
      ]
    },
    {
      "cell_type": "code",
      "metadata": {
        "colab": {
          "base_uri": "https://localhost:8080/",
          "height": 164
        },
        "id": "zRO7-6FpAic8",
        "outputId": "cfadd8da-b141-4f9d-e08d-93a009936908"
      },
      "source": [
        "dict_name.clear[\"오렌지\"]"
      ],
      "execution_count": 218,
      "outputs": [
        {
          "output_type": "error",
          "ename": "TypeError",
          "evalue": "ignored",
          "traceback": [
            "\u001b[0;31m---------------------------------------------------------------------------\u001b[0m",
            "\u001b[0;31mTypeError\u001b[0m                                 Traceback (most recent call last)",
            "\u001b[0;32m<ipython-input-218-0830f0cb0158>\u001b[0m in \u001b[0;36m<module>\u001b[0;34m()\u001b[0m\n\u001b[0;32m----> 1\u001b[0;31m \u001b[0mdict_name\u001b[0m\u001b[0;34m.\u001b[0m\u001b[0mclear\u001b[0m\u001b[0;34m[\u001b[0m\u001b[0;34m\"오렌지\"\u001b[0m\u001b[0;34m]\u001b[0m\u001b[0;34m\u001b[0m\u001b[0;34m\u001b[0m\u001b[0m\n\u001b[0m",
            "\u001b[0;31mTypeError\u001b[0m: 'builtin_function_or_method' object is not subscriptable"
          ]
        }
      ]
    },
    {
      "cell_type": "code",
      "metadata": {
        "id": "eF9BreKjDiyi"
      },
      "source": [
        "dict_name.clear()"
      ],
      "execution_count": 219,
      "outputs": []
    },
    {
      "cell_type": "code",
      "metadata": {
        "colab": {
          "base_uri": "https://localhost:8080/"
        },
        "id": "QqLmbtlEDk-d",
        "outputId": "16c406f2-49b7-4b80-b574-109828343ecd"
      },
      "source": [
        "print(dict_name)"
      ],
      "execution_count": 220,
      "outputs": [
        {
          "output_type": "stream",
          "text": [
            "{}\n"
          ],
          "name": "stdout"
        }
      ]
    },
    {
      "cell_type": "code",
      "metadata": {
        "colab": {
          "base_uri": "https://localhost:8080/",
          "height": 164
        },
        "id": "zJczXAkfDl4-",
        "outputId": "dd96c641-3b8c-4c1b-fee1-9a6a5c2e5b22"
      },
      "source": [
        ""
      ],
      "execution_count": 221,
      "outputs": [
        {
          "output_type": "error",
          "ename": "KeyError",
          "evalue": "ignored",
          "traceback": [
            "\u001b[0;31m---------------------------------------------------------------------------\u001b[0m",
            "\u001b[0;31mKeyError\u001b[0m                                  Traceback (most recent call last)",
            "\u001b[0;32m<ipython-input-221-e9d32383f056>\u001b[0m in \u001b[0;36m<module>\u001b[0;34m()\u001b[0m\n\u001b[0;32m----> 1\u001b[0;31m \u001b[0mdict_name\u001b[0m\u001b[0;34m[\u001b[0m\u001b[0;34m'data2'\u001b[0m\u001b[0;34m]\u001b[0m\u001b[0;34m[\u001b[0m\u001b[0;34m'data4'\u001b[0m\u001b[0;34m]\u001b[0m\u001b[0;34m\u001b[0m\u001b[0;34m\u001b[0m\u001b[0m\n\u001b[0m",
            "\u001b[0;31mKeyError\u001b[0m: 'data2'"
          ]
        }
      ]
    },
    {
      "cell_type": "code",
      "metadata": {
        "colab": {
          "base_uri": "https://localhost:8080/"
        },
        "id": "xqQXzwzIF6iI",
        "outputId": "492bdd5b-d3d8-42e1-cbdd-f5229ba55f76"
      },
      "source": [
        "dict_name = {\"data1\":{'data2':[11,12,13]}, \"data2\":{'data4':[21,22,23]}}\n",
        "dict_name['data1']['data2']"
      ],
      "execution_count": 222,
      "outputs": [
        {
          "output_type": "execute_result",
          "data": {
            "text/plain": [
              "[11, 12, 13]"
            ]
          },
          "metadata": {
            "tags": []
          },
          "execution_count": 222
        }
      ]
    },
    {
      "cell_type": "code",
      "metadata": {
        "id": "gERuev0gGMYn"
      },
      "source": [
        "dict_add = {\"오렌지\", \"11\"}\n",
        "dict_name.update({\"오렌지\":11})"
      ],
      "execution_count": 225,
      "outputs": []
    },
    {
      "cell_type": "code",
      "metadata": {
        "colab": {
          "base_uri": "https://localhost:8080/"
        },
        "id": "nb2vmlgjG0_E",
        "outputId": "7cb2319e-fbae-4cf2-de31-b1a55f7b5e43"
      },
      "source": [
        "print(dict_name)"
      ],
      "execution_count": 226,
      "outputs": [
        {
          "output_type": "stream",
          "text": [
            "{'data1': {'data2': [11, 12, 13]}, 'data2': {'data4': [21, 22, 23]}, '오렌지': 11}\n"
          ],
          "name": "stdout"
        }
      ]
    },
    {
      "cell_type": "code",
      "metadata": {
        "id": "YPto0hSJG9YC"
      },
      "source": [
        ""
      ],
      "execution_count": null,
      "outputs": []
    }
  ]
}